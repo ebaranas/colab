{
  "nbformat": 4,
  "nbformat_minor": 0,
  "metadata": {
    "colab": {
      "name": "self-driving.ipynb",
      "version": "0.3.2",
      "provenance": [],
      "include_colab_link": true
    },
    "kernelspec": {
      "name": "python3",
      "display_name": "Python 3"
    }
  },
  "cells": [
    {
      "cell_type": "markdown",
      "metadata": {
        "id": "view-in-github",
        "colab_type": "text"
      },
      "source": [
        "<a href=\"https://colab.research.google.com/github/ebaranas/colab/blob/master/self_driving.ipynb\" target=\"_parent\"><img src=\"https://colab.research.google.com/assets/colab-badge.svg\" alt=\"Open In Colab\"/></a>"
      ]
    },
    {
      "metadata": {
        "id": "tawjOcopUMIZ",
        "colab_type": "code",
        "colab": {}
      },
      "cell_type": "code",
      "source": [
        "class Car(object):\n",
        "  def __init__(self):\n",
        "    self.cur_loc = (0,0)\n",
        "    self.cur_time = 0\n",
        "    self.path = []\n",
        "    \n",
        "  def update(ride):\n",
        "    start_loc, end_loc, start_time, end_time = ride\n",
        "    self.cur_loc = (self.cur_loc[0] + end_loc[0], self.cur_loc[1] + end_loc[1])\n",
        "    self.cur_time = self.cur_time + get_wait_time(start_loc) + get_ride_time(ride)\n",
        "    \n",
        "  def get_wait_time"
      ],
      "execution_count": 0,
      "outputs": []
    },
    {
      "metadata": {
        "id": "rUsJSp7JVdvz",
        "colab_type": "code",
        "colab": {}
      },
      "cell_type": "code",
      "source": [
        ""
      ],
      "execution_count": 0,
      "outputs": []
    },
    {
      "metadata": {
        "id": "d6rTg0NZo81O",
        "colab_type": "code",
        "colab": {
          "base_uri": "https://localhost:8080/",
          "height": 34
        },
        "outputId": "d6157e1d-dea4-42b5-dc51-da3bddd8d424"
      },
      "cell_type": "code",
      "source": [
        "with open('a_example.in') as f:\n",
        "  NUM_ROWS, NUM_COLS, NUM_CARS, NUM_RIDES, BONUS_PTS, TOT_TIME = map(int, f.readline().split())\n",
        "  rides = []\n",
        "  for line in f:\n",
        "    start_x, start_y, end_x, end_y, start_time, end_time = map(int, line.split())\n",
        "    rides.append([(start_x, start_y), (end_x, end_y), start_time, end_time])\n",
        "\n",
        "cars = \n"
      ],
      "execution_count": 18,
      "outputs": [
        {
          "output_type": "stream",
          "text": [
            "[(0, 0), (1, 3), 2, 9]\n"
          ],
          "name": "stdout"
        }
      ]
    },
    {
      "metadata": {
        "id": "POlU5tQUpLLO",
        "colab_type": "code",
        "colab": {}
      },
      "cell_type": "code",
      "source": [
        ""
      ],
      "execution_count": 0,
      "outputs": []
    }
  ]
}