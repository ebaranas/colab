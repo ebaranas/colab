{
  "nbformat": 4,
  "nbformat_minor": 0,
  "metadata": {
    "colab": {
      "name": "linked_lists_v2.ipynb",
      "version": "0.3.2",
      "provenance": [],
      "include_colab_link": true
    },
    "kernelspec": {
      "name": "python3",
      "display_name": "Python 3"
    }
  },
  "cells": [
    {
      "cell_type": "markdown",
      "metadata": {
        "id": "view-in-github",
        "colab_type": "text"
      },
      "source": [
        "<a href=\"https://colab.research.google.com/github/ebaranas/colab/blob/master/linked_lists_v2.ipynb\" target=\"_parent\"><img src=\"https://colab.research.google.com/assets/colab-badge.svg\" alt=\"Open In Colab\"/></a>"
      ]
    },
    {
      "metadata": {
        "id": "_EKfkPNIxoXK",
        "colab_type": "code",
        "colab": {}
      },
      "cell_type": "code",
      "source": [
        "class Node(object):\n",
        "  def __init__(self, value):\n",
        "    self.value = value\n",
        "    self.next_node = None"
      ],
      "execution_count": 0,
      "outputs": []
    },
    {
      "metadata": {
        "id": "5edjOTxxx1Hp",
        "colab_type": "code",
        "colab": {}
      },
      "cell_type": "code",
      "source": [
        "class LinkedList(object):\n",
        "  def __init__(self):\n",
        "    self.head = None\n",
        "    self.length = 0\n",
        "\n",
        "  def push(self, node):\n",
        "    # inserts at the beginning of the linked list\n",
        "    node.next_node = self.head\n",
        "    self.head = node\n",
        "    self.length = self.length + 1\n",
        "    return None\n",
        "  \n",
        "  def remove(self, value):\n",
        "    previous_node = Node(None)\n",
        "    current_node = self.head\n",
        "    count = 0\n",
        "    \n",
        "    while current_node is not None:\n",
        "      if current_node.value == value:\n",
        "        if current_node == self.head:\n",
        "          self.head = current_node.next_node\n",
        "        previous_node.next_node = current_node.next_node\n",
        "        count = count + 1\n",
        "      else:\n",
        "        previous_node = current_node\n",
        "      \n",
        "      current_node = current_node.next_node\n",
        "    self.length = self.length - count\n",
        "    return None\n",
        "    \n",
        "  def get_value_at_index(self, index):\n",
        "    assert index >= 0\n",
        "    if index < self.length:\n",
        "      current_node = self.head\n",
        "      for i in range(index):\n",
        "        current_node = current_node.next_node \n",
        "      return current_node.value\n",
        "    else:\n",
        "      raise IndexError\n",
        "\n",
        "  def get_list(self):\n",
        "    values = []\n",
        "    current_node = self.head\n",
        "    while current_node is not None:\n",
        "      values.append(current_node.value)\n",
        "      current_node = current_node.next_node\n",
        "    return values"
      ],
      "execution_count": 0,
      "outputs": []
    },
    {
      "metadata": {
        "id": "i3SjkKlQ7KMA",
        "colab_type": "code",
        "colab": {
          "base_uri": "https://localhost:8080/",
          "height": 34
        },
        "outputId": "727d3361-8230-49e1-e230-a99c19f2adeb"
      },
      "cell_type": "code",
      "source": [
        "my_list = LinkedList()\n",
        "node = Node(2)\n",
        "my_list.push(node)\n",
        "node = Node(1)\n",
        "my_list.push(node)\n",
        "node = Node(1)\n",
        "my_list.push(node)\n",
        "node = Node(1)\n",
        "my_list.push(node)\n",
        "my_list.get_list()\n",
        "my_list.head.value\n",
        "my_list.remove(3)\n",
        "my_list.get_list()\n",
        "\n",
        "# empty_list = LinkedList()\n",
        "# empty_list.remove(0)\n",
        "# empty_list.get_list()\n"
      ],
      "execution_count": 39,
      "outputs": [
        {
          "output_type": "execute_result",
          "data": {
            "text/plain": [
              "[1, 1, 1, 2]"
            ]
          },
          "metadata": {
            "tags": []
          },
          "execution_count": 39
        }
      ]
    },
    {
      "metadata": {
        "id": "fL2UMQaQ7iUw",
        "colab_type": "code",
        "colab": {}
      },
      "cell_type": "code",
      "source": [
        "class Stack(object):\n",
        "  def __init__(self):\n",
        "    self.top = None\n",
        "    self.minimum = self.top\n",
        "    self.length = 0\n",
        "    \n",
        "  def push(self, node):\n",
        "    #assert type(node.value) is int # if getting minimum\n",
        "    self.update_minimum(node)\n",
        "    node.next_node = self.top\n",
        "    self.top = node\n",
        "    self.length = self.length + 1\n",
        "    return None\n",
        "  \n",
        "  def pop(self):\n",
        "    if self.top != None:\n",
        "      self.top = self.top.next_node\n",
        "      self.length = self.length - 1\n",
        "    else:\n",
        "      raise IndexError\n",
        "    return None\n",
        "  \n",
        "  def update_minimum(self, node):\n",
        "    #assert type(node.value) is int\n",
        "    if self.top is None or node.value < self.top.value:\n",
        "      self.minimum = node\n",
        "    \n",
        "  def get_minimum(self):\n",
        "    return self.minimum.value\n",
        "    \n",
        "  def get_stack(self):\n",
        "    stack = []\n",
        "    current_node = self.top\n",
        "    while current_node is not None:\n",
        "      stack.append(current_node.value)\n",
        "      current_node = current_node.next_node\n",
        "    return stack"
      ],
      "execution_count": 0,
      "outputs": []
    },
    {
      "metadata": {
        "id": "mXI-C7ntuGUs",
        "colab_type": "code",
        "colab": {
          "base_uri": "https://localhost:8080/",
          "height": 34
        },
        "outputId": "107025b3-d66e-4f09-a38b-8b17422a87f1"
      },
      "cell_type": "code",
      "source": [
        "my_stack = Stack()\n",
        "my_stack.get_stack()\n",
        "node = Node(0)\n",
        "my_stack.push(node)\n",
        "my_stack.get_stack()\n",
        "node = Node(1)\n",
        "my_stack.push(node)\n",
        "my_stack.top.value\n",
        "my_stack.get_stack()\n",
        "node = Node(-1)\n",
        "my_stack.push(node)\n",
        "my_stack.get_minimum()\n",
        "my_stack.length\n",
        "my_stack.get_stack()"
      ],
      "execution_count": 79,
      "outputs": [
        {
          "output_type": "execute_result",
          "data": {
            "text/plain": [
              "[-1, 1, 0]"
            ]
          },
          "metadata": {
            "tags": []
          },
          "execution_count": 79
        }
      ]
    },
    {
      "metadata": {
        "id": "y8QME-QF1cN4",
        "colab_type": "code",
        "colab": {}
      },
      "cell_type": "code",
      "source": [
        "class SetOfStacks(object):\n",
        "  def __init__(self, threshold):\n",
        "    self.top = None\n",
        "    assert threshold > 0\n",
        "    self.threshold = threshold\n",
        "    self.length = 0\n",
        "    self.num_stacks = 1\n",
        "    \n",
        "  def push(self, node):\n",
        "    node.next_node = self.top\n",
        "    self.top = node\n",
        "    if self.length >= self.threshold:\n",
        "      self.length = 0\n",
        "      self.num_stacks = self.num_stacks + 1\n",
        "    self.length = self.length + 1\n",
        "    \n",
        "  def pop(self):\n",
        "    if self.top != None:\n",
        "      self.top = self.top.next_node\n",
        "      self.length = self.length - 1\n",
        "      if self.length == 0 and self.top is not None:\n",
        "        # only reload when at least one substack is left\n",
        "        self.length = self.length + self.threshold\n",
        "        self.num_stacks = self.num_stacks - 1\n",
        "    else:\n",
        "      # self.top is None is nothing to pop\n",
        "      raise IndexError\n",
        "    return None\n",
        "  \n",
        "  def pop_at(self, stack_num):\n",
        "    # start stack_num from 1\n",
        "    assert stack_num > 0\n",
        "    if stack_num < self.num_stacks:\n",
        "      # number of counts that access the node above the top of the desired stack\n",
        "      counts = (self.num_stacks - stack_num - 1)*self.threshold + self.length - 1\n",
        "      current_node = self.top\n",
        "      for i in range(counts):\n",
        "        current_node = current_node.next_node\n",
        "      current_node.next_node = current_node.next_node.next_node\n",
        "      self.length = self.length - 1\n",
        "      if self.length == 0 and self.num_stacks > 1:\n",
        "        self.length = self.length + self.threshold\n",
        "        self.num_stacks = self.num_stacks - 1\n",
        "    \n",
        "    elif stack_num == self.num_stacks:\n",
        "      # case of popping at the top stack\n",
        "      self.pop()\n",
        "\n",
        "  def get_stack(self):\n",
        "    stack = []\n",
        "    current_node = self.top\n",
        "    for i in range(self.length):\n",
        "      stack.append(current_node.value)\n",
        "      current_node = current_node.next_node\n",
        "    return stack"
      ],
      "execution_count": 0,
      "outputs": []
    },
    {
      "metadata": {
        "id": "Bg1N3mFa3aTv",
        "colab_type": "code",
        "colab": {
          "base_uri": "https://localhost:8080/",
          "height": 102
        },
        "outputId": "2d22f98e-501f-4184-8190-4e907d9615db"
      },
      "cell_type": "code",
      "source": [
        "my_set = SetOfStacks(2)\n",
        "node = Node(0)\n",
        "my_set.push(node)\n",
        "node = Node(1)\n",
        "my_set.push(node)\n",
        "node = Node(2)\n",
        "my_set.push(node)\n",
        "node = Node(4)\n",
        "my_set.push(node)\n",
        "my_set.get_stack() #4,2 -- 1,0\n",
        "my_set.pop_at(1)\n",
        "my_set.get_stack() #4 -- 2,0\n",
        "my_set.num_stacks\n",
        "my_set.pop_at(1)\n",
        "my_set.get_stack() #4,0\n",
        "my_set.pop_at(1)\n",
        "my_set.get_stack() #0\n",
        "my_set.pop_at(1)\n",
        "my_set.get_stack() #0"
      ],
      "execution_count": 201,
      "outputs": [
        {
          "output_type": "stream",
          "text": [
            "2\n",
            "2\n",
            "1\n",
            "1\n"
          ],
          "name": "stdout"
        },
        {
          "output_type": "execute_result",
          "data": {
            "text/plain": [
              "[]"
            ]
          },
          "metadata": {
            "tags": []
          },
          "execution_count": 201
        }
      ]
    },
    {
      "metadata": {
        "id": "l6AAUsYx9IYq",
        "colab_type": "code",
        "colab": {
          "base_uri": "https://localhost:8080/",
          "height": 34
        },
        "outputId": "4dc59020-f7a4-4e3b-d9d0-37a0914bb2be"
      },
      "cell_type": "code",
      "source": [
        "[print('yo') for i in range(0)]"
      ],
      "execution_count": 174,
      "outputs": [
        {
          "output_type": "execute_result",
          "data": {
            "text/plain": [
              "[]"
            ]
          },
          "metadata": {
            "tags": []
          },
          "execution_count": 174
        }
      ]
    },
    {
      "metadata": {
        "id": "zDG6VEG0UBOj",
        "colab_type": "code",
        "colab": {}
      },
      "cell_type": "code",
      "source": [
        ""
      ],
      "execution_count": 0,
      "outputs": []
    }
  ]
}