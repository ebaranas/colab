{
  "nbformat": 4,
  "nbformat_minor": 0,
  "metadata": {
    "colab": {
      "name": "linked_lists_v2.ipynb",
      "version": "0.3.2",
      "provenance": [],
      "include_colab_link": true
    },
    "kernelspec": {
      "name": "python3",
      "display_name": "Python 3"
    }
  },
  "cells": [
    {
      "cell_type": "markdown",
      "metadata": {
        "id": "view-in-github",
        "colab_type": "text"
      },
      "source": [
        "<a href=\"https://colab.research.google.com/github/ebaranas/colab/blob/master/linked_lists_v2.ipynb\" target=\"_parent\"><img src=\"https://colab.research.google.com/assets/colab-badge.svg\" alt=\"Open In Colab\"/></a>"
      ]
    },
    {
      "metadata": {
        "id": "_EKfkPNIxoXK",
        "colab_type": "code",
        "colab": {}
      },
      "cell_type": "code",
      "source": [
        "class Node(object):\n",
        "  def __init__(self, value):\n",
        "    self.value = value\n",
        "    self.next_node = None\n",
        "  \n",
        "  def get_value(self):\n",
        "    return self.value"
      ],
      "execution_count": 0,
      "outputs": []
    },
    {
      "metadata": {
        "id": "5edjOTxxx1Hp",
        "colab_type": "code",
        "colab": {}
      },
      "cell_type": "code",
      "source": [
        "class LinkedList(object):\n",
        "  def __init__(self, head):\n",
        "    self.head = head\n",
        "    self.length = self.initialise_length()\n",
        "  \n",
        "  def initialise_length(self):\n",
        "    length = 0\n",
        "    current_node = self.head\n",
        "    while current_node is not None:\n",
        "      current_node = current_node.get_next()\n",
        "      length = length + 1\n",
        "    return length\n",
        "  \n",
        "  def get_length(self):\n",
        "    return self.length\n",
        "  \n",
        "  def get_head(self):\n",
        "    return self.head\n",
        "  \n",
        "  def insert(self, node):\n",
        "    # inserts at the beginning of the linked list\n",
        "    self.head = node\n",
        "    return None\n",
        "  \n",
        "  def remove(self, node):\n",
        "    if node == self.head:\n",
        "      self.head = node.get_next()\n",
        "    else:\n",
        "      current_node = self.head\n",
        "      while current_node.get_next() is not node:\n",
        "        current_node = current_node.get_next()\n",
        "      current_node.next_node = node.get_next()\n",
        "    return None\n",
        "  \n",
        "  def get_list(self):\n",
        "    values = []\n",
        "    node = self.head\n",
        "    while node is not None:\n",
        "      values.append(node.get_value())\n",
        "      node = node.get_next()\n",
        "    return values"
      ],
      "execution_count": 0,
      "outputs": []
    }
  ]
}