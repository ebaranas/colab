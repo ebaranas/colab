{
  "nbformat": 4,
  "nbformat_minor": 0,
  "metadata": {
    "colab": {
      "name": "linked_lists_v2.ipynb",
      "version": "0.3.2",
      "provenance": [],
      "include_colab_link": true
    },
    "kernelspec": {
      "name": "python3",
      "display_name": "Python 3"
    }
  },
  "cells": [
    {
      "cell_type": "markdown",
      "metadata": {
        "id": "view-in-github",
        "colab_type": "text"
      },
      "source": [
        "<a href=\"https://colab.research.google.com/github/ebaranas/colab/blob/master/linked_lists_v2.ipynb\" target=\"_parent\"><img src=\"https://colab.research.google.com/assets/colab-badge.svg\" alt=\"Open In Colab\"/></a>"
      ]
    },
    {
      "metadata": {
        "id": "_EKfkPNIxoXK",
        "colab_type": "code",
        "colab": {}
      },
      "cell_type": "code",
      "source": [
        "class Node(object):\n",
        "  def __init__(self, value):\n",
        "    self.value = value\n",
        "    self.next_node = None"
      ],
      "execution_count": 0,
      "outputs": []
    },
    {
      "metadata": {
        "id": "5edjOTxxx1Hp",
        "colab_type": "code",
        "colab": {}
      },
      "cell_type": "code",
      "source": [
        "class LinkedList(object):\n",
        "  def __init__(self):\n",
        "    self.head = None\n",
        "    self.length = 0\n",
        "\n",
        "  def push(self, node):\n",
        "    # inserts at the beginning of the linked list\n",
        "    node.next_node = self.head\n",
        "    self.head = node\n",
        "    self.length = self.length + 1\n",
        "    return None\n",
        "  \n",
        "  def remove(self, value):\n",
        "    previous_node = Node(None)\n",
        "    current_node = self.head\n",
        "    count = 0\n",
        "    \n",
        "    while current_node is not None:\n",
        "      if current_node.value == value:\n",
        "        if current_node == self.head:\n",
        "          self.head = current_node.next_node\n",
        "        previous_node.next_node = current_node.next_node\n",
        "        count = count + 1\n",
        "      previous_node = current_node\n",
        "      current_node = current_node.next_node\n",
        "    self.length = self.length - count\n",
        "    return None\n",
        "    \n",
        "  def get_value_at_index(self, index):\n",
        "    assert index >= 0\n",
        "    if index < self.length:\n",
        "      current_node = self.head\n",
        "      for i in range(index):\n",
        "        current_node = current_node.next_node \n",
        "      return current_node.value\n",
        "    else:\n",
        "      raise OutOfBoundError\n",
        "\n",
        "  def get_list(self):\n",
        "    values = []\n",
        "    current_node = self.head\n",
        "    while current_node is not None:\n",
        "      values.append(current_node.value)\n",
        "      current_node = current_node.next_node\n",
        "    return values\n",
        "      "
      ],
      "execution_count": 0,
      "outputs": []
    },
    {
      "metadata": {
        "id": "i3SjkKlQ7KMA",
        "colab_type": "code",
        "colab": {
          "base_uri": "https://localhost:8080/",
          "height": 232
        },
        "outputId": "7a362f30-86a5-4543-c744-8a9d11c0a389"
      },
      "cell_type": "code",
      "source": [
        "my_list = LinkedList()\n",
        "node = Node(4)\n",
        "my_list.push(node)\n",
        "node = Node(3)\n",
        "my_list.push(node)\n",
        "node = Node(2)\n",
        "my_list.push(node)\n",
        "node = Node(1)\n",
        "my_list.push(node)\n",
        "print(my_list.get_list())\n",
        "my_list.head.value\n",
        "my_list.remove(1)\n",
        "my_list.get_list()\n"
      ],
      "execution_count": 2,
      "outputs": [
        {
          "output_type": "error",
          "ename": "NameError",
          "evalue": "ignored",
          "traceback": [
            "\u001b[0;31m---------------------------------------------------------------------------\u001b[0m",
            "\u001b[0;31mNameError\u001b[0m                                 Traceback (most recent call last)",
            "\u001b[0;32m<ipython-input-2-cc25150e6241>\u001b[0m in \u001b[0;36m<module>\u001b[0;34m()\u001b[0m\n\u001b[1;32m      1\u001b[0m \u001b[0mmy_list\u001b[0m \u001b[0;34m=\u001b[0m \u001b[0mLinkedList\u001b[0m\u001b[0;34m(\u001b[0m\u001b[0;34m)\u001b[0m\u001b[0;34m\u001b[0m\u001b[0m\n\u001b[0;32m----> 2\u001b[0;31m \u001b[0mnode\u001b[0m \u001b[0;34m=\u001b[0m \u001b[0mNode\u001b[0m\u001b[0;34m(\u001b[0m\u001b[0;36m4\u001b[0m\u001b[0;34m)\u001b[0m\u001b[0;34m\u001b[0m\u001b[0m\n\u001b[0m\u001b[1;32m      3\u001b[0m \u001b[0mmy_list\u001b[0m\u001b[0;34m.\u001b[0m\u001b[0mpush\u001b[0m\u001b[0;34m(\u001b[0m\u001b[0mnode\u001b[0m\u001b[0;34m)\u001b[0m\u001b[0;34m\u001b[0m\u001b[0m\n\u001b[1;32m      4\u001b[0m \u001b[0mnode\u001b[0m \u001b[0;34m=\u001b[0m \u001b[0mNode\u001b[0m\u001b[0;34m(\u001b[0m\u001b[0;36m3\u001b[0m\u001b[0;34m)\u001b[0m\u001b[0;34m\u001b[0m\u001b[0m\n\u001b[1;32m      5\u001b[0m \u001b[0mmy_list\u001b[0m\u001b[0;34m.\u001b[0m\u001b[0mpush\u001b[0m\u001b[0;34m(\u001b[0m\u001b[0mnode\u001b[0m\u001b[0;34m)\u001b[0m\u001b[0;34m\u001b[0m\u001b[0m\n",
            "\u001b[0;31mNameError\u001b[0m: name 'Node' is not defined"
          ]
        }
      ]
    },
    {
      "metadata": {
        "id": "fL2UMQaQ7iUw",
        "colab_type": "code",
        "colab": {}
      },
      "cell_type": "code",
      "source": [
        ""
      ],
      "execution_count": 0,
      "outputs": []
    }
  ]
}