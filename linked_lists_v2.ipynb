{
  "nbformat": 4,
  "nbformat_minor": 0,
  "metadata": {
    "colab": {
      "name": "linked_lists_v2.ipynb",
      "version": "0.3.2",
      "provenance": [],
      "include_colab_link": true
    },
    "kernelspec": {
      "name": "python3",
      "display_name": "Python 3"
    }
  },
  "cells": [
    {
      "cell_type": "markdown",
      "metadata": {
        "id": "view-in-github",
        "colab_type": "text"
      },
      "source": [
        "<a href=\"https://colab.research.google.com/github/ebaranas/colab/blob/master/linked_lists_v2.ipynb\" target=\"_parent\"><img src=\"https://colab.research.google.com/assets/colab-badge.svg\" alt=\"Open In Colab\"/></a>"
      ]
    },
    {
      "metadata": {
        "id": "_EKfkPNIxoXK",
        "colab_type": "code",
        "colab": {}
      },
      "cell_type": "code",
      "source": [
        "class Node(object):\n",
        "  def __init__(self, value):\n",
        "    self.value = value\n",
        "    self.next_node = None"
      ],
      "execution_count": 0,
      "outputs": []
    },
    {
      "metadata": {
        "id": "5edjOTxxx1Hp",
        "colab_type": "code",
        "colab": {}
      },
      "cell_type": "code",
      "source": [
        "class LinkedList(object):\n",
        "  def __init__(self):\n",
        "    self.head = None\n",
        "    self.length = 0\n",
        "\n",
        "  def push(self, node):\n",
        "    # inserts at the beginning of the linked list\n",
        "    node.next_node = self.head\n",
        "    self.head = node\n",
        "    self.length = self.length + 1\n",
        "    return None\n",
        "  \n",
        "  def remove(self, value):\n",
        "    previous_node = Node(None)\n",
        "    current_node = self.head\n",
        "    count = 0\n",
        "    \n",
        "    while current_node is not None:\n",
        "      if current_node.value == value:\n",
        "        if current_node == self.head:\n",
        "          self.head = current_node.next_node\n",
        "        previous_node.next_node = current_node.next_node\n",
        "        count = count + 1\n",
        "      else:\n",
        "        previous_node = current_node\n",
        "      \n",
        "      current_node = current_node.next_node\n",
        "    self.length = self.length - count\n",
        "    return None\n",
        "    \n",
        "  def get_value_at_index(self, index):\n",
        "    assert index >= 0\n",
        "    if index < self.length:\n",
        "      current_node = self.head\n",
        "      for i in range(index):\n",
        "        current_node = current_node.next_node \n",
        "      return current_node.value\n",
        "    else:\n",
        "      raise IndexError\n",
        "\n",
        "  def get_list(self):\n",
        "    values = []\n",
        "    current_node = self.head\n",
        "    while current_node is not None:\n",
        "      values.append(current_node.value)\n",
        "      current_node = current_node.next_node\n",
        "    return values"
      ],
      "execution_count": 0,
      "outputs": []
    },
    {
      "metadata": {
        "id": "i3SjkKlQ7KMA",
        "colab_type": "code",
        "colab": {
          "base_uri": "https://localhost:8080/",
          "height": 34
        },
        "outputId": "5d0dd9ee-82c9-4737-fbdf-7ddde8bf5dc1"
      },
      "cell_type": "code",
      "source": [
        "my_list = LinkedList()\n",
        "node = Node(2)\n",
        "my_list.push(node)\n",
        "node = Node(1)\n",
        "my_list.push(node)\n",
        "node = Node(1)\n",
        "my_list.push(node)\n",
        "node = Node(1)\n",
        "my_list.push(node)\n",
        "my_list.get_list()\n",
        "my_list.head.value\n",
        "my_list.remove(3)\n",
        "my_list.get_list()\n",
        "\n",
        "# empty_list = LinkedList()\n",
        "# empty_list.remove(0)\n",
        "# empty_list.get_list()\n"
      ],
      "execution_count": 8,
      "outputs": [
        {
          "output_type": "execute_result",
          "data": {
            "text/plain": [
              "[1, 1, 1, 2]"
            ]
          },
          "metadata": {
            "tags": []
          },
          "execution_count": 8
        }
      ]
    },
    {
      "metadata": {
        "id": "jpyC2WselKas",
        "colab_type": "code",
        "colab": {}
      },
      "cell_type": "code",
      "source": [
        ""
      ],
      "execution_count": 0,
      "outputs": []
    },
    {
      "metadata": {
        "id": "fL2UMQaQ7iUw",
        "colab_type": "code",
        "colab": {}
      },
      "cell_type": "code",
      "source": [
        "# STACKS with minimum at O(1) time\n",
        "class Stack(object):\n",
        "  def __init__(self):\n",
        "    self.top = None\n",
        "    self.minimum = self.top\n",
        "    self.length = 0\n",
        "    \n",
        "  def push(self, node):\n",
        "    #assert type(node.value) is int # if getting minimum\n",
        "    self.update_minimum(node)\n",
        "    node.next_node = self.top\n",
        "    self.top = node\n",
        "    self.length = self.length + 1\n",
        "    return None\n",
        "  \n",
        "  def pop(self):\n",
        "    if self.top != None:\n",
        "      self.top = self.top.next_node\n",
        "      self.length = self.length - 1\n",
        "    else:\n",
        "      raise IndexError\n",
        "    return None\n",
        "  \n",
        "  def update_minimum(self, node):\n",
        "    #assert type(node.value) is int\n",
        "    if self.top is None or node.value < self.top.value:\n",
        "      self.minimum = node\n",
        "    \n",
        "  def get_minimum(self):\n",
        "    return self.minimum.value\n",
        "    \n",
        "  def get_stack(self):\n",
        "    stack = []\n",
        "    current_node = self.top\n",
        "    while current_node is not None:\n",
        "      stack.append(current_node.value)\n",
        "      current_node = current_node.next_node\n",
        "    return stack"
      ],
      "execution_count": 0,
      "outputs": []
    },
    {
      "metadata": {
        "id": "mXI-C7ntuGUs",
        "colab_type": "code",
        "colab": {
          "base_uri": "https://localhost:8080/",
          "height": 34
        },
        "outputId": "afc2d55d-200d-4f92-851a-30730dfbd1ab"
      },
      "cell_type": "code",
      "source": [
        "my_stack = Stack()\n",
        "my_stack.get_stack()\n",
        "node = Node(0)\n",
        "my_stack.push(node)\n",
        "my_stack.get_stack()\n",
        "node = Node(1)\n",
        "my_stack.push(node)\n",
        "my_stack.top.value\n",
        "my_stack.get_stack()\n",
        "node = Node(-1)\n",
        "my_stack.push(node)\n",
        "my_stack.get_minimum()\n",
        "my_stack.length\n",
        "my_stack.get_stack()"
      ],
      "execution_count": 10,
      "outputs": [
        {
          "output_type": "execute_result",
          "data": {
            "text/plain": [
              "[-1, 1, 0]"
            ]
          },
          "metadata": {
            "tags": []
          },
          "execution_count": 10
        }
      ]
    },
    {
      "metadata": {
        "id": "Eb1qfaevlbpu",
        "colab_type": "code",
        "colab": {}
      },
      "cell_type": "code",
      "source": [
        ""
      ],
      "execution_count": 0,
      "outputs": []
    },
    {
      "metadata": {
        "id": "y8QME-QF1cN4",
        "colab_type": "code",
        "colab": {}
      },
      "cell_type": "code",
      "source": [
        "# 3.3 Set of stacks + pop at stack\n",
        "class SetOfStacks(object):\n",
        "  def __init__(self, threshold):\n",
        "    self.top = None\n",
        "    assert threshold > 0\n",
        "    self.threshold = threshold\n",
        "    self.length = 0\n",
        "    self.num_stacks = 1\n",
        "    \n",
        "  def push(self, node):\n",
        "    node.next_node = self.top\n",
        "    self.top = node\n",
        "    if self.length >= self.threshold:\n",
        "      self.length = 0\n",
        "      self.num_stacks = self.num_stacks + 1\n",
        "    self.length = self.length + 1\n",
        "    \n",
        "  def pop(self):\n",
        "    if self.top != None:\n",
        "      self.top = self.top.next_node\n",
        "      self.length = self.length - 1\n",
        "      if self.length == 0 and self.top is not None:\n",
        "        # only reload when at least one substack is left\n",
        "        self.length = self.length + self.threshold\n",
        "        self.num_stacks = self.num_stacks - 1\n",
        "    else:\n",
        "      # self.top is None is nothing to pop\n",
        "      raise IndexError\n",
        "    return None\n",
        "  \n",
        "  def pop_at(self, stack_num):\n",
        "    # start stack_num from 1\n",
        "    assert stack_num > 0\n",
        "    if stack_num < self.num_stacks:\n",
        "      # number of counts that access the node above the top of the desired stack\n",
        "      counts = (self.num_stacks - stack_num - 1)*self.threshold + self.length - 1\n",
        "      current_node = self.top\n",
        "      for i in range(counts):\n",
        "        current_node = current_node.next_node\n",
        "      current_node.next_node = current_node.next_node.next_node\n",
        "      self.length = self.length - 1\n",
        "      if self.length == 0 and self.num_stacks > 1:\n",
        "        self.length = self.length + self.threshold\n",
        "        self.num_stacks = self.num_stacks - 1\n",
        "    \n",
        "    elif stack_num == self.num_stacks:\n",
        "      # case of popping at the top stack\n",
        "      self.pop()\n",
        "\n",
        "  def get_stack(self):\n",
        "    stack = []\n",
        "    current_node = self.top\n",
        "    for i in range(self.length):\n",
        "      stack.append(current_node.value)\n",
        "      current_node = current_node.next_node\n",
        "    return stack"
      ],
      "execution_count": 0,
      "outputs": []
    },
    {
      "metadata": {
        "id": "Bg1N3mFa3aTv",
        "colab_type": "code",
        "colab": {
          "base_uri": "https://localhost:8080/",
          "height": 34
        },
        "outputId": "ca2dbc7b-6fb7-4e5c-c2c4-6ef0ef3dd239"
      },
      "cell_type": "code",
      "source": [
        "my_set = SetOfStacks(2)\n",
        "node = Node(0)\n",
        "my_set.push(node)\n",
        "node = Node(1)\n",
        "my_set.push(node)\n",
        "node = Node(2)\n",
        "my_set.push(node)\n",
        "node = Node(4)\n",
        "my_set.push(node)\n",
        "my_set.get_stack() #4,2 -- 1,0\n",
        "my_set.pop_at(1)\n",
        "my_set.get_stack() #4 -- 2,0\n",
        "my_set.num_stacks\n",
        "my_set.pop_at(1)\n",
        "my_set.get_stack() #4,0\n",
        "my_set.pop_at(1)\n",
        "my_set.get_stack() #0\n",
        "my_set.pop_at(1)\n",
        "my_set.get_stack() #0"
      ],
      "execution_count": 12,
      "outputs": [
        {
          "output_type": "execute_result",
          "data": {
            "text/plain": [
              "[]"
            ]
          },
          "metadata": {
            "tags": []
          },
          "execution_count": 12
        }
      ]
    },
    {
      "metadata": {
        "id": "jFsRYc9glh75",
        "colab_type": "code",
        "colab": {}
      },
      "cell_type": "code",
      "source": [
        "# STACKS plain\n",
        "class Stack(object):\n",
        "  def __init__(self):\n",
        "    self.top = None\n",
        "    self.length = 0\n",
        "    \n",
        "  def push(self, node):\n",
        "    node.next_node = self.top\n",
        "    self.top = node\n",
        "    self.length = self.length + 1\n",
        "    return None\n",
        "  \n",
        "  def pop(self):\n",
        "    if self.top != None:\n",
        "      self.top = self.top.next_node\n",
        "      self.length = self.length - 1\n",
        "    else:\n",
        "      raise IndexError\n",
        "    return None\n",
        "    \n",
        "  def get_stack(self):\n",
        "    stack = []\n",
        "    current_node = self.top\n",
        "    while current_node is not None:\n",
        "      stack.append(current_node.value)\n",
        "      current_node = current_node.next_node\n",
        "    return stack"
      ],
      "execution_count": 0,
      "outputs": []
    },
    {
      "metadata": {
        "id": "zDG6VEG0UBOj",
        "colab_type": "code",
        "colab": {}
      },
      "cell_type": "code",
      "source": [
        "# 3.4. Tower of Hanoi\n",
        "N = 3\n",
        "# def put_disks_on_rod(N, rod):\n",
        "#   disks = Stack()\n",
        "#   for i in range(N, 0, -1):\n",
        "#     node = Node(i)\n",
        "#     disks.push(node)\n",
        "#   return disks\n",
        "\n",
        "class Rod(Stack):\n",
        "  # a Rod is a Stack with a concept of next Rod\n",
        "  def __init__(self, next):\n",
        "    self.top = None\n",
        "    self.next_rod = None"
      ],
      "execution_count": 0,
      "outputs": []
    },
    {
      "metadata": {
        "id": "-ixV3jXbffKn",
        "colab_type": "code",
        "colab": {}
      },
      "cell_type": "code",
      "source": [
        "def main():\n",
        "  rod3 = Rod(None)\n",
        "  rod2 = Rod(rod3)\n",
        "  rod1 = Rod(rod2)\n",
        "\n",
        "  node = Node(0)\n",
        "  rod1.push(node)\n",
        "  rod1.get_stack()\n",
        "  \n"
      ],
      "execution_count": 0,
      "outputs": []
    },
    {
      "metadata": {
        "id": "68oO8QttfgYw",
        "colab_type": "code",
        "colab": {
          "base_uri": "https://localhost:8080/",
          "height": 402
        },
        "outputId": "90ea27c5-f991-4cee-cb8a-d022949ca5b9"
      },
      "cell_type": "code",
      "source": [
        "main()"
      ],
      "execution_count": 16,
      "outputs": [
        {
          "output_type": "error",
          "ename": "AttributeError",
          "evalue": "ignored",
          "traceback": [
            "\u001b[0;31m---------------------------------------------------------------------------\u001b[0m",
            "\u001b[0;31mAttributeError\u001b[0m                            Traceback (most recent call last)",
            "\u001b[0;32m<ipython-input-16-263240bbee7e>\u001b[0m in \u001b[0;36m<module>\u001b[0;34m()\u001b[0m\n\u001b[0;32m----> 1\u001b[0;31m \u001b[0mmain\u001b[0m\u001b[0;34m(\u001b[0m\u001b[0;34m)\u001b[0m\u001b[0;34m\u001b[0m\u001b[0m\n\u001b[0m",
            "\u001b[0;32m<ipython-input-15-6f948bf03f74>\u001b[0m in \u001b[0;36mmain\u001b[0;34m()\u001b[0m\n\u001b[1;32m      5\u001b[0m \u001b[0;34m\u001b[0m\u001b[0m\n\u001b[1;32m      6\u001b[0m   \u001b[0mnode\u001b[0m \u001b[0;34m=\u001b[0m \u001b[0mNode\u001b[0m\u001b[0;34m(\u001b[0m\u001b[0;36m0\u001b[0m\u001b[0;34m)\u001b[0m\u001b[0;34m\u001b[0m\u001b[0m\n\u001b[0;32m----> 7\u001b[0;31m   \u001b[0mrod1\u001b[0m\u001b[0;34m.\u001b[0m\u001b[0mpush\u001b[0m\u001b[0;34m(\u001b[0m\u001b[0mnode\u001b[0m\u001b[0;34m)\u001b[0m\u001b[0;34m\u001b[0m\u001b[0m\n\u001b[0m\u001b[1;32m      8\u001b[0m   \u001b[0mrod1\u001b[0m\u001b[0;34m.\u001b[0m\u001b[0mget_stack\u001b[0m\u001b[0;34m(\u001b[0m\u001b[0;34m)\u001b[0m\u001b[0;34m\u001b[0m\u001b[0m\n\u001b[1;32m      9\u001b[0m \u001b[0;34m\u001b[0m\u001b[0m\n",
            "\u001b[0;32m<ipython-input-13-cfca2be84ef6>\u001b[0m in \u001b[0;36mpush\u001b[0;34m(self, node)\u001b[0m\n\u001b[1;32m      7\u001b[0m     \u001b[0mnode\u001b[0m\u001b[0;34m.\u001b[0m\u001b[0mnext_node\u001b[0m \u001b[0;34m=\u001b[0m \u001b[0mself\u001b[0m\u001b[0;34m.\u001b[0m\u001b[0mtop\u001b[0m\u001b[0;34m\u001b[0m\u001b[0m\n\u001b[1;32m      8\u001b[0m     \u001b[0mself\u001b[0m\u001b[0;34m.\u001b[0m\u001b[0mtop\u001b[0m \u001b[0;34m=\u001b[0m \u001b[0mnode\u001b[0m\u001b[0;34m\u001b[0m\u001b[0m\n\u001b[0;32m----> 9\u001b[0;31m     \u001b[0mself\u001b[0m\u001b[0;34m.\u001b[0m\u001b[0mlength\u001b[0m \u001b[0;34m=\u001b[0m \u001b[0mself\u001b[0m\u001b[0;34m.\u001b[0m\u001b[0mlength\u001b[0m \u001b[0;34m+\u001b[0m \u001b[0;36m1\u001b[0m\u001b[0;34m\u001b[0m\u001b[0m\n\u001b[0m\u001b[1;32m     10\u001b[0m     \u001b[0;32mreturn\u001b[0m \u001b[0;32mNone\u001b[0m\u001b[0;34m\u001b[0m\u001b[0m\n\u001b[1;32m     11\u001b[0m \u001b[0;34m\u001b[0m\u001b[0m\n",
            "\u001b[0;31mAttributeError\u001b[0m: 'Rod' object has no attribute 'length'"
          ]
        }
      ]
    },
    {
      "metadata": {
        "id": "3Bd5OEKmkSuI",
        "colab_type": "code",
        "colab": {}
      },
      "cell_type": "code",
      "source": [
        "def fibonacci(n):\n",
        "  if n > 1:\n",
        "    return fibonacci(n - 1) + fibonacci(n - 2)\n",
        "    \n",
        "  elif n == 1:\n",
        "    return 1\n",
        "  \n",
        "  elif n == 0:\n",
        "    return 0"
      ],
      "execution_count": 0,
      "outputs": []
    },
    {
      "metadata": {
        "id": "SEJzp18PQ09n",
        "colab_type": "code",
        "colab": {}
      },
      "cell_type": "code",
      "source": [
        "def solve(num_disks):\n",
        "  if num_disks > 2:\n",
        "    solve(num_disks)\n",
        "  elif num_disks == 2:\n",
        "    move_largest(A, B)\n",
        "    "
      ],
      "execution_count": 0,
      "outputs": []
    },
    {
      "metadata": {
        "id": "0VY8DZ2NQ2D1",
        "colab_type": "code",
        "colab": {}
      },
      "cell_type": "code",
      "source": [
        "def initialise(peg, n):\n",
        "  for i in range(n, 0, -1):\n",
        "    node = Node(i)\n",
        "    peg.push(node)\n",
        "\n",
        "def get_largest_top(pegA, pegB, pegC):\n",
        "  pegs = [pegA, pegB, pegC]\n",
        "  tops_and_pegs = [(peg.top, peg) if peg.top is not None else (Node(0), peg)\n",
        "              for peg in pegs]\n",
        "  \n",
        "  return max(tops_and_pegs, key=lambda top: tops_and_pegs[0].value)\n",
        "  \n",
        "  \n",
        "def valid_peg(largest_top, peg_of_largest_top):\n",
        "  adjacent_peg(peg_of_largest_top)\n",
        "  \n",
        "\n",
        "class Peg(object):\n",
        "  def __init__(self, left_peg, right_peg):\n",
        "    # right and left pegs are Stacks\n",
        "    self.left_peg = left_peg\n",
        "    self.right_peg = right_peg\n",
        "    \n",
        "#   def get_valid_peg(largest_top):\n",
        "#     if self.left_peg and self.right_peg is None: # 1 and None = None\n",
        "#       return self.left_peg or self.right_peg # 1 or None = 1\n",
        "#     elif self.left_peg.top.value > largest_top.value\n",
        "#       return self.\n",
        "        \n",
        "  \n",
        "def move_largest():\n",
        "  pegA = Stack()\n",
        "  pegB = Stack()\n",
        "  pegC = Stack()\n",
        "  \n",
        "  pegC = Peg(pegB, None)\n",
        "  pegB = Peg(pegA, pegB)\n",
        "  pegA = Peg(None, pegB)\n",
        "  \n",
        "  \n",
        "  \n",
        "  initialise(pegA, 3)\n",
        "  num_pegs_in_pegA = pegA.length\n",
        "  largest_top = get_largest_top(pegA, pegB, pegC)[0]\n",
        "  peg_of_largest_top = get_largest_top(pegA, pegB, pegC)[1]\n",
        "  \n",
        "  if num_pegs_in_pegA > 0:\n",
        "    move_largest()\n",
        "    \n",
        "    \n",
        "  else:\n",
        "    pop(largest_top)\n",
        "    valid_peg = peg_of_largest_top.get_valid_peg(largest_top)\n",
        "    valid_peg.push(largest_top)\n",
        "    \n",
        "  "
      ],
      "execution_count": 0,
      "outputs": []
    },
    {
      "metadata": {
        "id": "lViP4tBaJSot",
        "colab_type": "code",
        "colab": {
          "base_uri": "https://localhost:8080/",
          "height": 34
        },
        "outputId": "3ebb6c57-881e-4fa9-8e46-2d3aa5845a12"
      },
      "cell_type": "code",
      "source": [
        "move_largest()"
      ],
      "execution_count": 82,
      "outputs": [
        {
          "output_type": "execute_result",
          "data": {
            "text/plain": [
              "(<__main__.Node at 0x7fc454c4bda0>, <__main__.Stack at 0x7fc454c4ba20>)"
            ]
          },
          "metadata": {
            "tags": []
          },
          "execution_count": 82
        }
      ]
    },
    {
      "metadata": {
        "id": "N3eoKzFbJV7Y",
        "colab_type": "code",
        "colab": {
          "base_uri": "https://localhost:8080/",
          "height": 164
        },
        "outputId": "aedf1d67-36e9-47c1-a9ae-cf92ebce8674"
      },
      "cell_type": "code",
      "source": [
        "int(None)"
      ],
      "execution_count": 41,
      "outputs": [
        {
          "output_type": "error",
          "ename": "TypeError",
          "evalue": "ignored",
          "traceback": [
            "\u001b[0;31m---------------------------------------------------------------------------\u001b[0m",
            "\u001b[0;31mTypeError\u001b[0m                                 Traceback (most recent call last)",
            "\u001b[0;32m<ipython-input-41-af2123a46eb2>\u001b[0m in \u001b[0;36m<module>\u001b[0;34m()\u001b[0m\n\u001b[0;32m----> 1\u001b[0;31m \u001b[0mint\u001b[0m\u001b[0;34m(\u001b[0m\u001b[0;32mNone\u001b[0m\u001b[0;34m)\u001b[0m\u001b[0;34m\u001b[0m\u001b[0m\n\u001b[0m",
            "\u001b[0;31mTypeError\u001b[0m: int() argument must be a string, a bytes-like object or a number, not 'NoneType'"
          ]
        }
      ]
    },
    {
      "metadata": {
        "id": "AoiE_nrNL9g5",
        "colab_type": "code",
        "colab": {
          "base_uri": "https://localhost:8080/",
          "height": 34
        },
        "outputId": "36dcaa3e-e53c-4719-c303-c956b5c9c998"
      },
      "cell_type": "code",
      "source": [
        "print(1 and None)"
      ],
      "execution_count": 86,
      "outputs": [
        {
          "output_type": "stream",
          "text": [
            "None\n"
          ],
          "name": "stdout"
        }
      ]
    },
    {
      "metadata": {
        "id": "NFSnHsw4l79d",
        "colab_type": "code",
        "colab": {}
      },
      "cell_type": "code",
      "source": [
        "1 and None"
      ],
      "execution_count": 0,
      "outputs": []
    },
    {
      "metadata": {
        "id": "Yp05TEZwl9cl",
        "colab_type": "code",
        "colab": {}
      },
      "cell_type": "code",
      "source": [
        ""
      ],
      "execution_count": 0,
      "outputs": []
    }
  ]
}