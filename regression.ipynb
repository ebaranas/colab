{
  "nbformat": 4,
  "nbformat_minor": 0,
  "metadata": {
    "colab": {
      "name": "regression.ipynb",
      "version": "0.3.2",
      "provenance": [],
      "include_colab_link": true
    },
    "kernelspec": {
      "name": "python2",
      "display_name": "Python 2"
    }
  },
  "cells": [
    {
      "cell_type": "markdown",
      "metadata": {
        "id": "view-in-github",
        "colab_type": "text"
      },
      "source": [
        "<a href=\"https://colab.research.google.com/github/ebaranas/colab/blob/master/regression.ipynb\" target=\"_parent\"><img src=\"https://colab.research.google.com/assets/colab-badge.svg\" alt=\"Open In Colab\"/></a>"
      ]
    },
    {
      "metadata": {
        "id": "EDLLJc1AJOA0",
        "colab_type": "code",
        "colab": {
          "base_uri": "https://localhost:8080/",
          "height": 51
        },
        "outputId": "2a12e63b-8afd-4da0-d2ba-28f7a2b39c44"
      },
      "cell_type": "code",
      "source": [
        "import numpy as np\n",
        "import random\n",
        "import math\n",
        "from matplotlib import pyplot as plt\n",
        "a = [[-1,3],[1,2],[0,0]]\n",
        "b = np.transpose(a)\n",
        "\n",
        "np.matmul(b,a)"
      ],
      "execution_count": 9,
      "outputs": [
        {
          "output_type": "execute_result",
          "data": {
            "text/plain": [
              "array([[ 2, -1],\n",
              "       [-1, 13]])"
            ]
          },
          "metadata": {
            "tags": []
          },
          "execution_count": 9
        }
      ]
    },
    {
      "metadata": {
        "id": "Ztd8XY6zo-9j",
        "colab_type": "code",
        "colab": {}
      },
      "cell_type": "code",
      "source": [
        "pi = math.pi\n",
        "\n",
        "def OLS(A, At, data):\n",
        "  # returns parameters given design matrix and data\n",
        "  AtA = np.matmul(At, A)\n",
        "  AtA_inv = np.linalg.inv(AtA)\n",
        "  aout = np.matmul(At, data)\n",
        "  return np.matmul(AtA_inv, aout)\n",
        "\n",
        "def RLS(A, At, data):\n",
        "  # returns parameters given design matrix and data\n",
        "  AAt = np.matmul(A, At)\n",
        "  AAt_inv = np.linalg.inv(AAt)\n",
        "  aout = np.matmul(AAt_inv, data)\n",
        "  return np.matmul(At, aout)\n",
        "\n",
        "\n",
        "def plot_model(N, M):\n",
        "  # N is number of data\n",
        "  # M is complexity\n",
        "  \n",
        "  # generate data\n",
        "  t = np.linspace(.1, .9, N)\n",
        "  data = [np.sin(2*pi*x) + np.random.normal(np.sin(2*pi*x), 0.5) for x in t]\n",
        "  \n",
        "  # generate features\n",
        "  features = [t**i for i in range(0, N)]\n",
        "  \n",
        "  # create design matrix\n",
        "  A = np.transpose(features)\n",
        "  At = np.asarray(features)\n",
        "  \n",
        "  params = OLS(A, At, data)\n",
        "  def model(x):\n",
        "    return sum([params[index]*x**index for index in range(M)])\n",
        "\n",
        "  tprime = np.linspace(.1, .9)\n",
        "  output = [np.sin(2*math.pi*x) + np.random.normal(np.sin(2*math.pi*x), 0.5) for x in t]\n",
        "  target = [model(x) for x in tprime]\n",
        "\n",
        "  plt.scatter(t, output)\n",
        "  plt.plot(tprime, target)"
      ],
      "execution_count": 0,
      "outputs": []
    },
    {
      "metadata": {
        "id": "GSzjwxkIMcLJ",
        "colab_type": "code",
        "colab": {
          "base_uri": "https://localhost:8080/",
          "height": 364
        },
        "outputId": "49b90def-c4f7-459c-b7aa-164ee0da1768"
      },
      "cell_type": "code",
      "source": [
        "\n",
        "num_data = 10\n",
        "t = np.linspace(.1, .9, num_data)\n",
        "output = [np.sin(2*math.pi*x) + np.random.normal(np.sin(2*math.pi*x), 0.5) for x in t]"
      ],
      "execution_count": 105,
      "outputs": [
        {
          "output_type": "execute_result",
          "data": {
            "text/plain": [
              "<matplotlib.collections.PathCollection at 0x7fa9d6eceed0>"
            ]
          },
          "metadata": {
            "tags": []
          },
          "execution_count": 105
        },
        {
          "output_type": "display_data",
          "data": {
            "image/png": "[encoded data removed]",
            "text/plain": [
              "<matplotlib.figure.Figure at 0x7fa9d6efd390>"
            ]
          },
          "metadata": {
            "tags": []
          }
        }
      ]
    },
    {
      "metadata": {
        "id": "HfFdF9mgNDEX",
        "colab_type": "code",
        "colab": {}
      },
      "cell_type": "code",
      "source": [
        "complexity = 3\n",
        "features = [t**i for i in range(0, complexity)]"
      ],
      "execution_count": 0,
      "outputs": []
    },
    {
      "metadata": {
        "id": "-2vYCeb9QpmH",
        "colab_type": "code",
        "colab": {
          "base_uri": "https://localhost:8080/",
          "height": 204
        },
        "outputId": "65592410-7dab-4c67-cb3a-3b7c6822d9e9"
      },
      "cell_type": "code",
      "source": [
        "A = np.transpose(features)\n",
        "At = np.asarray(features)\n",
        "print(At.shape)\n",
        "A"
      ],
      "execution_count": 141,
      "outputs": [
        {
          "output_type": "stream",
          "text": [
            "(3, 10)\n"
          ],
          "name": "stdout"
        },
        {
          "output_type": "execute_result",
          "data": {
            "text/plain": [
              "array([[1.        , 0.1       , 0.01      ],\n",
              "       [1.        , 0.18888889, 0.03567901],\n",
              "       [1.        , 0.27777778, 0.07716049],\n",
              "       [1.        , 0.36666667, 0.13444444],\n",
              "       [1.        , 0.45555556, 0.20753086],\n",
              "       [1.        , 0.54444444, 0.29641975],\n",
              "       [1.        , 0.63333333, 0.40111111],\n",
              "       [1.        , 0.72222222, 0.52160494],\n",
              "       [1.        , 0.81111111, 0.65790123],\n",
              "       [1.        , 0.9       , 0.81      ]])"
            ]
          },
          "metadata": {
            "tags": []
          },
          "execution_count": 141
        }
      ]
    },
    {
      "metadata": {
        "id": "IQHnvNusQtH0",
        "colab_type": "code",
        "colab": {}
      },
      "cell_type": "code",
      "source": [
        "# Given n x m design matrix A\n",
        "AAt = np.matmul(A, At)\n",
        "AAt_inv = np.linalg.inv(AAt) # n x n - singular if num_data < features"
      ],
      "execution_count": 0,
      "outputs": []
    },
    {
      "metadata": {
        "id": "Liz0Vro7omKW",
        "colab_type": "code",
        "colab": {
          "base_uri": "https://localhost:8080/",
          "height": 51
        },
        "outputId": "5d692ba8-2fd3-41d9-ffe6-c67dd60f9b3a"
      },
      "cell_type": "code",
      "source": [
        "AtA = np.matmul(At, A)\n",
        "print(AtA.shape)\n",
        "AtA_inv = np.linalg.inv(AtA) # m x m\n",
        "print(AtA_inv.shape)"
      ],
      "execution_count": 143,
      "outputs": [
        {
          "output_type": "stream",
          "text": [
            "(3, 3)\n",
            "(3, 3)\n"
          ],
          "name": "stdout"
        }
      ]
    },
    {
      "metadata": {
        "id": "yYsEqe3RUho7",
        "colab_type": "code",
        "colab": {
          "base_uri": "https://localhost:8080/",
          "height": 34
        },
        "outputId": "6d6e13ad-c35d-488b-da04-08d3234b2339"
      },
      "cell_type": "code",
      "source": [
        "# solve for parameters coefficients OLS\n",
        "aout = np.matmul(At, output)\n",
        "params = np.matmul(AtA_inv, aout)\n",
        "params"
      ],
      "execution_count": 144,
      "outputs": [
        {
          "output_type": "execute_result",
          "data": {
            "text/plain": [
              "array([ 1.7061178 , -2.24195417, -2.07790424])"
            ]
          },
          "metadata": {
            "tags": []
          },
          "execution_count": 144
        }
      ]
    },
    {
      "metadata": {
        "id": "osdVHYYYViRN",
        "colab_type": "code",
        "colab": {
          "base_uri": "https://localhost:8080/",
          "height": 34
        },
        "outputId": "f98b9616-626e-4788-ebae-c26d901e6428"
      },
      "cell_type": "code",
      "source": [
        "# solve for parameters coefficients RLS\n",
        "aout = np.matmul(AAt_inv, output)\n",
        "params_reg = np.matmul(At, aout)\n",
        "def model(x):\n",
        "  return sum([params[index]*x**index for index in range(complexity)])\n",
        "params_reg"
      ],
      "execution_count": 145,
      "outputs": [
        {
          "output_type": "execute_result",
          "data": {
            "text/plain": [
              "array([ -1.,  18., -29.])"
            ]
          },
          "metadata": {
            "tags": []
          },
          "execution_count": 145
        }
      ]
    },
    {
      "metadata": {
        "id": "By2MaSP6WM0l",
        "colab_type": "code",
        "colab": {
          "base_uri": "https://localhost:8080/",
          "height": 364
        },
        "outputId": "d2e57a8b-21e7-4cf5-9f82-aa6849b624e5"
      },
      "cell_type": "code",
      "source": [
        "num_data = 10\n",
        "t = np.linspace(.1, .9, num_data)\n",
        "tprime = np.linspace(.1, .9)\n",
        "output = [np.sin(2*math.pi*x) + np.random.normal(np.sin(2*math.pi*x), 0.5) for x in t]\n",
        "target = [model(x) for x in tprime]\n",
        "\n",
        "plt.scatter(t, output)\n",
        "plt.plot(tprime, target)"
      ],
      "execution_count": 149,
      "outputs": [
        {
          "output_type": "execute_result",
          "data": {
            "text/plain": [
              "[<matplotlib.lines.Line2D at 0x7fa9d6b69f50>]"
            ]
          },
          "metadata": {
            "tags": []
          },
          "execution_count": 149
        },
        {
          "output_type": "display_data",
          "data": {
            "image/png": "[encoded data removed]",
            "text/plain": [
              "<matplotlib.figure.Figure at 0x7fa9d6bfce50>"
            ]
          },
          "metadata": {
            "tags": []
          }
        }
      ]
    },
    {
      "metadata": {
        "id": "r2_0I2LKgjBY",
        "colab_type": "code",
        "colab": {}
      },
      "cell_type": "code",
      "source": [
        ""
      ],
      "execution_count": 0,
      "outputs": []
    }
  ]
}