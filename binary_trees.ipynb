{
  "nbformat": 4,
  "nbformat_minor": 0,
  "metadata": {
    "colab": {
      "name": "binary-trees.ipynb",
      "version": "0.3.2",
      "provenance": [],
      "include_colab_link": true
    },
    "kernelspec": {
      "name": "python3",
      "display_name": "Python 3"
    }
  },
  "cells": [
    {
      "cell_type": "markdown",
      "metadata": {
        "id": "view-in-github",
        "colab_type": "text"
      },
      "source": [
        "<a href=\"https://colab.research.google.com/github/ebaranas/colab/blob/master/binary_trees.ipynb\" target=\"_parent\"><img src=\"https://colab.research.google.com/assets/colab-badge.svg\" alt=\"Open In Colab\"/></a>"
      ]
    },
    {
      "metadata": {
        "id": "dNoNthyXUdtO",
        "colab_type": "code",
        "colab": {}
      },
      "cell_type": "code",
      "source": [
        "class Node(object):\n",
        "  def __init__(self, value):\n",
        "    self.value = value\n",
        "    self.left_child = None\n",
        "    self.right_child = None\n",
        "\n",
        "class BinaryTree(object):\n",
        "  def __init__(self):\n",
        "    self.root = None\n",
        "  \n",
        "  def is_empty(self):\n",
        "    if self.root == None:\n",
        "      return True\n",
        "    else:\n",
        "      return False\n",
        "  \n",
        "  def add_root(self, value):\n",
        "    if self.is_empty() == True:\n",
        "      self.root = Node(value)\n",
        "    else:\n",
        "      raise Error\n",
        "  \n",
        "  def add_left(self, parent, value):\n",
        "    if parent.left_child is None:\n",
        "      parent.left_child = Node(value)\n",
        "    else:\n",
        "      raise Error\n",
        "  \n",
        "  def add_right(self, parent, value):\n",
        "    if parent.right_child is None:\n",
        "      parent.right_child = Node(value)\n",
        "    else:\n",
        "      raise Error"
      ],
      "execution_count": 0,
      "outputs": []
    },
    {
      "metadata": {
        "id": "0tLy7DIpYDMn",
        "colab_type": "code",
        "colab": {}
      },
      "cell_type": "code",
      "source": [
        "bt = BinaryTree()\n",
        "bt.is_empty()\n",
        "bt.add_root(5)\n",
        "bt.add_left(bt.root, 6)\n",
        "# bt.root.left_child.value\n"
      ],
      "execution_count": 0,
      "outputs": []
    },
    {
      "metadata": {
        "id": "LXVA_Vnv06Xj",
        "colab_type": "code",
        "colab": {}
      },
      "cell_type": "code",
      "source": [
        "# BINARY SEARCH TREES\n",
        "# versus just BINARY TREE (no order!)\n",
        "# bug: incorrect use of if if elif else (order matters?)\n",
        "# IMPT: one traverses TREES not nodes!\n",
        "# (so traverse must NOT be a member function)\n",
        "# bug: return values from functions!!! (e.g.get_children)\n",
        "# any() vs all()\n",
        "\n",
        "class BinarySearchTree(object):\n",
        "  def __init__(self):\n",
        "    self.root = None\n",
        "  \n",
        "  def is_empty(self):\n",
        "    if self.root == None:\n",
        "      return True\n",
        "    else:\n",
        "      return False\n",
        "    \n",
        "  def insert(self, value):\n",
        "    node = Node(value)\n",
        "    if self.is_empty() == True:\n",
        "      self.root = node\n",
        "    \n",
        "    else:\n",
        "      destination_node = self.root\n",
        "      while destination_node is not None:\n",
        "        if node.value > destination_node.value:\n",
        "          flag = 'right'\n",
        "          parent_node = destination_node\n",
        "          destination_node = destination_node.right_child\n",
        "        elif node.value <= destination_node.value:\n",
        "          flag = 'left'\n",
        "          parent_node = destination_node\n",
        "          destination_node = destination_node.left_child\n",
        "      if flag == 'left':\n",
        "        parent_node.left_child = node\n",
        "      else:\n",
        "        parent_node.right_child = node\n",
        "\n",
        "def traverse_in_order(tree):\n",
        "  if tree.is_empty() == True:\n",
        "    print('None')\n",
        "\n",
        "  else:\n",
        "    if tree.root.left_child == None and tree.root.right_child == None:\n",
        "      # base case: no children, just print node values\n",
        "      print(tree.root.value)\n",
        "    else:\n",
        "      left_tree = BinarySearchTree()\n",
        "      right_tree = BinarySearchTree()\n",
        "      left_tree.root = tree.root.left_child\n",
        "      right_tree.root = tree.root.right_child\n",
        "      traverse_in_order(left_tree)\n",
        "      print(tree.root.value)\n",
        "      traverse_in_order(right_tree)\n",
        "\n",
        "def get_children(nodes):\n",
        "    children = []\n",
        "    for node in nodes:\n",
        "      if node is not None:\n",
        "        children.append(node.left_child)\n",
        "        children.append(node.right_child)\n",
        "    return children\n",
        "  \n",
        "\n",
        "def traverse_level_order(tree):\n",
        "  # also implement using queues and compare time and memory complexity\n",
        "  if tree.is_empty() == True:\n",
        "    print('None')\n",
        "\n",
        "  else:\n",
        "    nodes = [tree.root]\n",
        "    print([node.value for node in nodes])\n",
        "    children = get_children(nodes)\n",
        "    while any(children) is True:\n",
        "      nodes = children\n",
        "      print([node.value for node in nodes if node is not None])\n",
        "      children = get_children(nodes)"
      ],
      "execution_count": 0,
      "outputs": []
    },
    {
      "metadata": {
        "id": "BmJ3spBhSqEA",
        "colab_type": "code",
        "colab": {
          "base_uri": "https://localhost:8080/",
          "height": 85
        },
        "outputId": "7e6f8a06-4d2a-429b-ee4f-91e3e2ce2e6e"
      },
      "cell_type": "code",
      "source": [
        "bst = BinarySearchTree()\n",
        "bst.insert(5)\n",
        "bst.insert(3)\n",
        "bst.insert(6)\n",
        "bst.insert(1)\n",
        "bst.insert(9)\n",
        "bst.insert(4)\n",
        "bst.insert(7)\n",
        "bst.insert(0)\n",
        "# traverse_in_order(bst)\n",
        "traverse_level_order(bst)"
      ],
      "execution_count": 130,
      "outputs": [
        {
          "output_type": "stream",
          "text": [
            "[5]\n",
            "[3, 6]\n",
            "[1, 4, 9]\n",
            "[0, 7]\n"
          ],
          "name": "stdout"
        }
      ]
    },
    {
      "metadata": {
        "id": "gNf9acKjK5K8",
        "colab_type": "code",
        "colab": {}
      },
      "cell_type": "code",
      "source": [
        "# Check if a tree is a Binary Search Tree\n",
        "# note: whenever if cond1 if cond2 --> if cond1 or cond2\n",
        "# bug: put if elif else consecutively\n",
        "# major takeaway: figure out different base cases, understand control statements better\n",
        "def is_binary_search(tree):\n",
        "  no_children = tree.root.left_child is None and tree.root.right_child is None\n",
        "  if tree.root.left_child is not None and tree.root.right_child is not None:\n",
        "    correct_left_child = False\n",
        "    correct_right_child = False\n",
        "    correct_children = tree.root.left_child.value < tree.root.value and tree.root.right_child.value > tree.root.value\n",
        "  elif tree.root.left_child is not None and tree.root.right_child is None:\n",
        "    correct_left_child = tree.root.right_child is None and tree.root.left_child.value < tree.root.value\n",
        "    correct_right_child = False\n",
        "    correct_children = False\n",
        "  elif tree.root.right_child is not None and tree.root.left_child is None:\n",
        "    correct_right_child = tree.root.left_child is None and tree.root.right_child.value > tree.root.value\n",
        "    correct_left_child = False\n",
        "    correct_children = False\n",
        "  \n",
        "  if tree.is_empty() or no_children:\n",
        "    return True\n",
        "  elif correct_right_child or correct_left_child or correct_children:\n",
        "    if correct_left_child or correct_children:\n",
        "      left_tree = BinaryTree()\n",
        "      left_tree.root = tree.root.left_child\n",
        "      is_binary_search(left_tree)\n",
        "    if correct_right_child or correct_children:\n",
        "      right_tree = BinaryTree()\n",
        "      right_tree.root = tree.root.right_child\n",
        "      is_binary_search(right_tree)\n",
        "    return True\n",
        "\n",
        "  else:\n",
        "    return False"
      ],
      "execution_count": 0,
      "outputs": []
    },
    {
      "metadata": {
        "id": "odApQHh6Zs6R",
        "colab_type": "code",
        "colab": {
          "base_uri": "https://localhost:8080/",
          "height": 34
        },
        "outputId": "4853ed7f-35a3-4218-9087-84b0a3a0129f"
      },
      "cell_type": "code",
      "source": [
        "is_binary_search(bst)"
      ],
      "execution_count": 194,
      "outputs": [
        {
          "output_type": "execute_result",
          "data": {
            "text/plain": [
              "True"
            ]
          },
          "metadata": {
            "tags": []
          },
          "execution_count": 194
        }
      ]
    },
    {
      "metadata": {
        "id": "L6N_0Fp1l0bP",
        "colab_type": "code",
        "colab": {}
      },
      "cell_type": "code",
      "source": [
        "# Find min and max element in a Binary Search Tree\n",
        "\n",
        "def find_minimum(tree):\n",
        "  # the minimum is the deepest node without a left child\n",
        "  current_root = tree.root\n",
        "  while current_root.left_child is not None:\n",
        "    current_root = current_root.left_child\n",
        "  return current_root.value\n",
        "\n",
        "def find_maximum(tree):\n",
        "  # the maximum is the deepest node without a right child\n",
        "  current_root = tree.root\n",
        "  while current_root.right_child is not None:\n",
        "    current_root = current_root.right_child\n",
        "  return current_root.value"
      ],
      "execution_count": 0,
      "outputs": []
    },
    {
      "metadata": {
        "id": "cGsk0Zid2kzF",
        "colab_type": "code",
        "colab": {
          "base_uri": "https://localhost:8080/",
          "height": 34
        },
        "outputId": "0e797a55-f494-46c6-9e2e-0ee29366e962"
      },
      "cell_type": "code",
      "source": [
        "find_minimum(bst)"
      ],
      "execution_count": 201,
      "outputs": [
        {
          "output_type": "execute_result",
          "data": {
            "text/plain": [
              "0"
            ]
          },
          "metadata": {
            "tags": []
          },
          "execution_count": 201
        }
      ]
    },
    {
      "metadata": {
        "id": "uKkdiFPv2pGl",
        "colab_type": "code",
        "colab": {
          "base_uri": "https://localhost:8080/",
          "height": 34
        },
        "outputId": "e7b0ed4e-7e5c-46b6-fadc-db307e9b8085"
      },
      "cell_type": "code",
      "source": [
        "find_maximum(bst)"
      ],
      "execution_count": 202,
      "outputs": [
        {
          "output_type": "execute_result",
          "data": {
            "text/plain": [
              "9"
            ]
          },
          "metadata": {
            "tags": []
          },
          "execution_count": 202
        }
      ]
    },
    {
      "metadata": {
        "id": "3pV6Rla924Or",
        "colab_type": "code",
        "colab": {}
      },
      "cell_type": "code",
      "source": [
        "# Delete a node from a Binary Search Tree\n",
        "\n",
        "def delete(target, tree):\n",
        "  '''\n",
        "  case 1: the target is a leaf node: set the child of the parent to None\n",
        "  case 2: the target is a node with either no left or no right subtree:\n",
        "          delete target and replace with the target's child\n",
        "  case 3: the target has two children: replace the target with the maximum of\n",
        "          the left subtree or the minimum of the right subtree\n",
        "  in the actual implementation, delete should be a member function of the BST\n",
        "  so delete(target)\n",
        "  '''\n",
        "  \n",
        "  # first, get the node with the value target (assuming values are unique)\n",
        "  parent_node, side = get_parent(target)\n",
        "  \n",
        "  if target_node.left_child is None and target_node.right_child is None:\n",
        "    if side == 'right':\n",
        "      parent_node.right_child = None\n",
        "    elif side == 'left':\n",
        "      parent_node.left_child = None\n",
        "  \n",
        "  elif target_node.left_child is None:\n",
        "    if side == 'right':\n",
        "      parent_node.right_child = target.right_child\n",
        "    elif side == 'left':\n",
        "      parent_node.left_child = target.right_child\n",
        "  \n",
        "  elif target_node.right_child is None:\n",
        "    if side == 'right':\n",
        "      parent_node.right_child = target.left_child\n",
        "      \n",
        "    elif side == 'left':\n",
        "      parent_node.left_child = target.left_child\n",
        "  \n",
        "  elif target_node.left_child is not None and target_node.right_child is not None:\n",
        "    \n",
        "    \n",
        "\n",
        "  \n",
        "    "
      ],
      "execution_count": 0,
      "outputs": []
    }
  ]
}