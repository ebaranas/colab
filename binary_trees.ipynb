{
  "nbformat": 4,
  "nbformat_minor": 0,
  "metadata": {
    "colab": {
      "name": "binary-trees.ipynb",
      "version": "0.3.2",
      "provenance": [],
      "include_colab_link": true
    },
    "kernelspec": {
      "name": "python3",
      "display_name": "Python 3"
    }
  },
  "cells": [
    {
      "cell_type": "markdown",
      "metadata": {
        "id": "view-in-github",
        "colab_type": "text"
      },
      "source": [
        "<a href=\"https://colab.research.google.com/github/ebaranas/colab/blob/master/binary_trees.ipynb\" target=\"_parent\"><img src=\"https://colab.research.google.com/assets/colab-badge.svg\" alt=\"Open In Colab\"/></a>"
      ]
    },
    {
      "metadata": {
        "id": "dNoNthyXUdtO",
        "colab_type": "code",
        "colab": {}
      },
      "cell_type": "code",
      "source": [
        "# BINARY SEARCH TREES\n",
        "\n",
        "class Node(object):\n",
        "  def __init__(self, value):\n",
        "    self.value = value\n",
        "    self.left_child = None\n",
        "    self.right_child = None\n",
        "\n",
        "class BinarySearchTree(object):\n",
        "  def __init__(self):\n",
        "    self.root = None\n",
        "  \n",
        "  def is_empty(self):\n",
        "    if self.root == None:\n",
        "      return True\n",
        "    else:\n",
        "      return False\n",
        "    \n",
        "  def insert(self, node):\n",
        "    flag = 0\n",
        "    if self.is_empty == True:\n",
        "      self.root = node\n",
        "\n",
        "    elif flag == 0:\n",
        "      # initialize search\n",
        "      current_node = self.root\n",
        "    \n",
        "    else:\n",
        "      flag = 1\n",
        "      if node.value > current_node.value and current_node.right_child is not None:\n",
        "        current_node.right_child = node\n",
        "      \n",
        "      elif node.value < current_node.value and current_node.left_child is not None:\n",
        "        current_node.left_child = node      \n",
        "      \n",
        "      else:\n",
        "        if node.value > current_node.value:\n",
        "          current_node = current_node.right_child\n",
        "        elif node.value < current_node.value:\n",
        "          current_node = current_node.left_child\n",
        "          insert(node)"
      ],
      "execution_count": 0,
      "outputs": []
    },
    {
      "metadata": {
        "id": "vCLvJiJSp04k",
        "colab_type": "code",
        "colab": {}
      },
      "cell_type": "code",
      "source": [
        ""
      ],
      "execution_count": 0,
      "outputs": []
    }
  ]
}