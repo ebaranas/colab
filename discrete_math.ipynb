{
  "nbformat": 4,
  "nbformat_minor": 0,
  "metadata": {
    "colab": {
      "name": "discrete-math.ipynb",
      "version": "0.3.2",
      "provenance": [],
      "include_colab_link": true
    },
    "kernelspec": {
      "name": "python3",
      "display_name": "Python 3"
    }
  },
  "cells": [
    {
      "cell_type": "markdown",
      "metadata": {
        "id": "view-in-github",
        "colab_type": "text"
      },
      "source": [
        "<a href=\"https://colab.research.google.com/github/ebaranas/colab/blob/master/discrete_math.ipynb\" target=\"_parent\"><img src=\"https://colab.research.google.com/assets/colab-badge.svg\" alt=\"Open In Colab\"/></a>"
      ]
    },
    {
      "metadata": {
        "id": "Sw77afLEzBuE",
        "colab_type": "code",
        "colab": {}
      },
      "cell_type": "code",
      "source": [
        "import numpy as np\n",
        "# SOME DISCRETE MATH\n",
        "def find_factors(number):\n",
        "  factors = []\n",
        "  if number == 1:\n",
        "    factors = [1]\n",
        "  else:\n",
        "    for i in range(1, int(number/2) + 1, 1):\n",
        "      if number%i == 0:\n",
        "        factors.append(i)\n",
        "    factors.append(number)\n",
        "  return factors"
      ],
      "execution_count": 0,
      "outputs": []
    },
    {
      "metadata": {
        "id": "9aPWpfRpz1iR",
        "colab_type": "code",
        "colab": {
          "base_uri": "https://localhost:8080/",
          "height": 34
        },
        "outputId": "5414d0f2-8139-460b-ef05-d7554d96b0cf"
      },
      "cell_type": "code",
      "source": [
        "find_factors(34)"
      ],
      "execution_count": 138,
      "outputs": [
        {
          "output_type": "execute_result",
          "data": {
            "text/plain": [
              "[1, 2, 17, 34]"
            ]
          },
          "metadata": {
            "tags": []
          },
          "execution_count": 138
        }
      ]
    },
    {
      "metadata": {
        "id": "DTF7rWCxz352",
        "colab_type": "code",
        "colab": {}
      },
      "cell_type": "code",
      "source": [
        "def decimal_to_binary(number):\n",
        "  binary = []\n",
        "  quotient = number\n",
        "  while quotient > 0:\n",
        "    remainder = quotient % 2\n",
        "    quotient = int(quotient/2)\n",
        "    binary.append(remainder)\n",
        "  return binary[:-1]"
      ],
      "execution_count": 0,
      "outputs": []
    },
    {
      "metadata": {
        "id": "xTIw5SHF6IeN",
        "colab_type": "code",
        "colab": {
          "base_uri": "https://localhost:8080/",
          "height": 34
        },
        "outputId": "dc7f7aa2-5a29-46f0-c1bc-6a6de35d3c50"
      },
      "cell_type": "code",
      "source": [
        "decimal_to_binary(125)"
      ],
      "execution_count": 14,
      "outputs": [
        {
          "output_type": "execute_result",
          "data": {
            "text/plain": [
              "[1, 0, 1, 1, 1, 1]"
            ]
          },
          "metadata": {
            "tags": []
          },
          "execution_count": 14
        }
      ]
    },
    {
      "metadata": {
        "id": "iDpCs-gX6LZr",
        "colab_type": "code",
        "colab": {}
      },
      "cell_type": "code",
      "source": [
        "def is_prime(number):\n",
        "  if find_factors(number) == [1, number]:\n",
        "    return True\n",
        "  else:\n",
        "    return False"
      ],
      "execution_count": 0,
      "outputs": []
    },
    {
      "metadata": {
        "id": "lwA4RR2N7Qdh",
        "colab_type": "code",
        "colab": {
          "base_uri": "https://localhost:8080/",
          "height": 34
        },
        "outputId": "a8a6477e-a237-41a3-dde8-7dd789e00958"
      },
      "cell_type": "code",
      "source": [
        "is_prime(1)"
      ],
      "execution_count": 51,
      "outputs": [
        {
          "output_type": "execute_result",
          "data": {
            "text/plain": [
              "False"
            ]
          },
          "metadata": {
            "tags": []
          },
          "execution_count": 51
        }
      ]
    },
    {
      "metadata": {
        "id": "aUuFrn537TdO",
        "colab_type": "code",
        "colab": {}
      },
      "cell_type": "code",
      "source": [
        "# Trial and Error Method\n",
        "# Complexity: n*sqrt(n)\n",
        "def list_all_primes_up_to(number):\n",
        "  primes = []\n",
        "  for i in range(1, number + 1, 1):\n",
        "    if is_prime(i) == True:\n",
        "      primes.append(i)\n",
        "  return primes"
      ],
      "execution_count": 0,
      "outputs": []
    },
    {
      "metadata": {
        "id": "Vx5WwaQUFBHN",
        "colab_type": "code",
        "colab": {
          "base_uri": "https://localhost:8080/",
          "height": 34
        },
        "outputId": "343822ec-6b02-4c9d-d332-00c2c371f31a"
      },
      "cell_type": "code",
      "source": [
        "list_all_primes_up_to(13)"
      ],
      "execution_count": 53,
      "outputs": [
        {
          "output_type": "execute_result",
          "data": {
            "text/plain": [
              "[2, 3, 5, 7, 11, 13]"
            ]
          },
          "metadata": {
            "tags": []
          },
          "execution_count": 53
        }
      ]
    },
    {
      "metadata": {
        "id": "MXmSWY1iFCy7",
        "colab_type": "code",
        "colab": {}
      },
      "cell_type": "code",
      "source": [
        "# Sieve of Eratosthenes\n",
        "# bug: if i in list not if i in list == True\n",
        "# Complexity: n*sqrt(n)/2 WRONG!\n",
        "# should be n/2 + n/3 + n/5 + ... = O(n*loglogn)\n",
        "def sieve_primes(number):\n",
        "  primes = [i for i in range(2, number + 1, 1)]\n",
        "  for i in range(2, int(number/2) + 1, 1):\n",
        "    if is_prime(i) == True:\n",
        "      n = 2\n",
        "      while i*n <= number:\n",
        "        if i*n in primes:\n",
        "          primes.remove(i*n)\n",
        "        n = n + 1\n",
        "  return primes"
      ],
      "execution_count": 0,
      "outputs": []
    },
    {
      "metadata": {
        "id": "qLqAwve0H2bM",
        "colab_type": "code",
        "colab": {
          "base_uri": "https://localhost:8080/",
          "height": 34
        },
        "outputId": "5bb92573-7378-4e45-dee3-16ec6ca354c8"
      },
      "cell_type": "code",
      "source": [
        "sieve_primes(15)"
      ],
      "execution_count": 127,
      "outputs": [
        {
          "output_type": "execute_result",
          "data": {
            "text/plain": [
              "[2, 3, 4, 5, 6, 7, 9, 11, 13]"
            ]
          },
          "metadata": {
            "tags": []
          },
          "execution_count": 127
        }
      ]
    },
    {
      "metadata": {
        "id": "jILEV6pzH_rW",
        "colab_type": "code",
        "colab": {}
      },
      "cell_type": "code",
      "source": [
        "# PRIME FACTORIZATON:\n",
        "def prime_factorization(number):\n",
        "  factors = find_factors(number)\n",
        "  primes = sieve_primes(number)\n",
        "  prime_factors = [prime_factor for prime_factor in primes\n",
        "                   if prime_factor in factors]\n",
        "  print('factors', factors)\n",
        "  print('prime_factors', prime_factors)\n",
        "  result = []\n",
        "  \n",
        "  quotient = number\n",
        "  i = 0\n",
        "  while quotient != 1:\n",
        "    if quotient % prime_factors[i] == 0:\n",
        "      quotient = quotient/prime_factors[i]\n",
        "      result.append(prime_factors[i])\n",
        "    else:\n",
        "      i = i + 1\n",
        "  return result"
      ],
      "execution_count": 0,
      "outputs": []
    },
    {
      "metadata": {
        "id": "l-rWISq1PlU-",
        "colab_type": "code",
        "colab": {
          "base_uri": "https://localhost:8080/",
          "height": 68
        },
        "outputId": "9e18cb09-f434-488b-f4fd-f0fc302bd5df"
      },
      "cell_type": "code",
      "source": [
        "prime_factorization(129)"
      ],
      "execution_count": 141,
      "outputs": [
        {
          "output_type": "stream",
          "text": [
            "factors [1, 3, 43, 129]\n",
            "prime_factors [3, 43]\n"
          ],
          "name": "stdout"
        },
        {
          "output_type": "execute_result",
          "data": {
            "text/plain": [
              "[3, 43]"
            ]
          },
          "metadata": {
            "tags": []
          },
          "execution_count": 141
        }
      ]
    },
    {
      "metadata": {
        "id": "cUDtA1BqPnoc",
        "colab_type": "code",
        "colab": {
          "base_uri": "https://localhost:8080/",
          "height": 34
        },
        "outputId": "4db9dcba-6d5b-4909-c47f-fb7ad4f455b3"
      },
      "cell_type": "code",
      "source": [
        "[1, 2, 3] in [3, 2]"
      ],
      "execution_count": 108,
      "outputs": [
        {
          "output_type": "execute_result",
          "data": {
            "text/plain": [
              "False"
            ]
          },
          "metadata": {
            "tags": []
          },
          "execution_count": 108
        }
      ]
    },
    {
      "metadata": {
        "id": "Mhm1Y5IQQRZ5",
        "colab_type": "code",
        "colab": {}
      },
      "cell_type": "code",
      "source": [
        ""
      ],
      "execution_count": 0,
      "outputs": []
    }
  ]
}