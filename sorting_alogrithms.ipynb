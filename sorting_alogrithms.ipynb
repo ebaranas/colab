{
  "nbformat": 4,
  "nbformat_minor": 0,
  "metadata": {
    "colab": {
      "name": "sorting-alogrithms.ipynb",
      "version": "0.3.2",
      "provenance": [],
      "include_colab_link": true
    },
    "kernelspec": {
      "name": "python3",
      "display_name": "Python 3"
    }
  },
  "cells": [
    {
      "cell_type": "markdown",
      "metadata": {
        "id": "view-in-github",
        "colab_type": "text"
      },
      "source": [
        "<a href=\"https://colab.research.google.com/github/ebaranas/colab/blob/master/sorting_alogrithms.ipynb\" target=\"_parent\"><img src=\"https://colab.research.google.com/assets/colab-badge.svg\" alt=\"Open In Colab\"/></a>"
      ]
    },
    {
      "metadata": {
        "id": "ImwyRmJK_4kj",
        "colab_type": "code",
        "colab": {}
      },
      "cell_type": "code",
      "source": [
        "# bug: be careful with assign statements! x = y; z = x #x has been changed!)\n",
        "# bug: range of list\n",
        "# bug: be careful with initializing a vairable inside a control statement\n",
        "# e.g. current minimum index\n",
        "# time compelxity: arithmetic progression: n + n-1 + n-2 + ... = n(n-1)/2\n",
        "# = O(n^2)\n",
        "\n",
        "# my_list = [14, 13, 11, 12] / [11, 13, 14, 12] / [11, 12, 14, 13]\n",
        "def selection_sort(my_list):\n",
        "  length = len(my_list)\n",
        "  for i in range(length):\n",
        "    current_minimum = my_list[i]\n",
        "    current_minimum_index = i\n",
        "    print(my_list)\n",
        "    for j in range(i + 1, length):\n",
        "      if current_minimum > my_list[j]:\n",
        "        current_minimum = my_list[j]\n",
        "        current_minimum_index = j\n",
        "    # swapping minimum with elements starting from the left\n",
        "    my_list[current_minimum_index] = my_list[i]\n",
        "    my_list[i] = current_minimum\n",
        "  return my_list"
      ],
      "execution_count": 0,
      "outputs": []
    },
    {
      "metadata": {
        "id": "xx_D_3pU01H9",
        "colab_type": "code",
        "outputId": "3b9fb160-e29f-4c21-8089-3d20df4105f5",
        "colab": {
          "base_uri": "https://localhost:8080/",
          "height": 85
        }
      },
      "cell_type": "code",
      "source": [
        "my_list = [3, 1, 3]\n",
        "selection_sort(my_list)"
      ],
      "execution_count": 0,
      "outputs": [
        {
          "output_type": "stream",
          "text": [
            "[3, 1, 3]\n",
            "[1, 3, 3]\n",
            "[1, 3, 3]\n"
          ],
          "name": "stdout"
        },
        {
          "output_type": "execute_result",
          "data": {
            "text/plain": [
              "[1, 3, 3]"
            ]
          },
          "metadata": {
            "tags": []
          },
          "execution_count": 47
        }
      ]
    },
    {
      "metadata": {
        "id": "8I06nmRy06i4",
        "colab_type": "code",
        "colab": {}
      },
      "cell_type": "code",
      "source": [
        "# my_list = [14, 13, 11, 12]\n",
        "# time complexity: O(N^2)\n",
        "# improvement: break the loop if no swapping occurred\n",
        "def bubble_sort(my_list):\n",
        "  length = len(my_list)\n",
        "  var_length = length\n",
        "  counter = 0\n",
        "  while var_length != 0:\n",
        "    flag = 0\n",
        "    # push the maximum element to the right of the list; one pass at the list\n",
        "    for i in range(var_length - 1):\n",
        "      if my_list[i] > my_list[i+1]:\n",
        "        buffer = my_list[i]\n",
        "        my_list[i] = my_list[i+1]\n",
        "        my_list[i+1] = buffer\n",
        "        flag = 1\n",
        "    if flag == 0:\n",
        "      break\n",
        "    var_length = var_length - 1\n",
        "    counter = counter + 1\n",
        "  print(\"counter\", counter)\n",
        "  return my_list"
      ],
      "execution_count": 0,
      "outputs": []
    },
    {
      "metadata": {
        "id": "bbN0CFG-GrcH",
        "colab_type": "code",
        "outputId": "9e4e8880-0207-4284-8b9f-94b7bf2df62e",
        "colab": {
          "base_uri": "https://localhost:8080/",
          "height": 51
        }
      },
      "cell_type": "code",
      "source": [
        "my_list = [11, 14, 14]\n",
        "bubble_sort(my_list)"
      ],
      "execution_count": 0,
      "outputs": [
        {
          "output_type": "stream",
          "text": [
            "counter 0\n"
          ],
          "name": "stdout"
        },
        {
          "output_type": "execute_result",
          "data": {
            "text/plain": [
              "[11, 14, 14]"
            ]
          },
          "metadata": {
            "tags": []
          },
          "execution_count": 74
        }
      ]
    },
    {
      "metadata": {
        "id": "iRukEH6HIT_E",
        "colab_type": "code",
        "colab": {}
      },
      "cell_type": "code",
      "source": [
        ""
      ],
      "execution_count": 0,
      "outputs": []
    }
  ]
}