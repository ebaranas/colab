{
  "nbformat": 4,
  "nbformat_minor": 0,
  "metadata": {
    "colab": {
      "name": "max difference.ipynb",
      "version": "0.3.2",
      "provenance": [],
      "include_colab_link": true
    },
    "kernelspec": {
      "name": "python3",
      "display_name": "Python 3"
    }
  },
  "cells": [
    {
      "cell_type": "markdown",
      "metadata": {
        "id": "view-in-github",
        "colab_type": "text"
      },
      "source": [
        "<a href=\"https://colab.research.google.com/github/ebaranas/colab/blob/master/max_difference.ipynb\" target=\"_parent\"><img src=\"https://colab.research.google.com/assets/colab-badge.svg\" alt=\"Open In Colab\"/></a>"
      ]
    },
    {
      "metadata": {
        "id": "ymPYErld71OG",
        "colab_type": "code",
        "colab": {}
      },
      "cell_type": "code",
      "source": [
        "def maxDifference(n, a):\n",
        "    # Worst case time complexity is O(n!) if differences are checked one by one.\n",
        "    # Solve by dynamic programming\n",
        "\n",
        "    "
      ],
      "execution_count": 0,
      "outputs": []
    },
    {
      "metadata": {
        "id": "SPMMjkns_pYT",
        "colab_type": "code",
        "colab": {
          "base_uri": "https://localhost:8080/",
          "height": 102
        },
        "outputId": "403683b1-543d-43d0-b1f6-ee0379cf780c"
      },
      "cell_type": "code",
      "source": [
        "a = [2, 3, 10, 12, 8]\n",
        "n = len(a)\n",
        "D = [[0 for j in range(n)] for i in range(n)]\n",
        "\n",
        "for i in range(1, n):\n",
        "  if a[i] > a[i-1]:\n",
        "    D[i][i-1] = a[i] - a[i-1]\n",
        "  else:\n",
        "    D[i][i-1] = -1\n",
        "\n",
        "i = 0\n",
        "for k in range(n, 0, -1):\n",
        "  for j in range(2, k):\n",
        "    if D[j+i][j-1] != -1:\n",
        "      D[j+i][j-2] = D[j+i][j-1] + D[j-1+i][j-2]\n",
        "    else:\n",
        "      D[j+i][j-2+i] = -1\n",
        "  i = i + 1\n",
        "    \n",
        "  \n",
        "\n",
        "D"
      ],
      "execution_count": 30,
      "outputs": [
        {
          "output_type": "execute_result",
          "data": {
            "text/plain": [
              "[[0, 0, 0, 0, 0],\n",
              " [1, 0, 0, 0, 0],\n",
              " [8, 7, 0, 0, 0],\n",
              " [17, 9, 2, 0, 0],\n",
              " [17, 0, -1, -1, 0]]"
            ]
          },
          "metadata": {
            "tags": []
          },
          "execution_count": 30
        }
      ]
    },
    {
      "metadata": {
        "id": "4hMk-vTs_uKJ",
        "colab_type": "code",
        "colab": {}
      },
      "cell_type": "code",
      "source": [
        "a = [2, 3, 10, 12, 8]\n",
        "n = len(a)\n",
        "D = [[0 for j in range(n)] for i in range(n)]\n",
        "\n",
        "for i in range(1, n):\n",
        "  if a[i] > a[i-1]:\n",
        "    D[i][i-1] = a[i] - a[i-1]\n",
        "  else:\n",
        "    D[i][i-1] = -1\n",
        "\n",
        "i = 0\n",
        "for k in range(n, 0, -1):\n",
        "  for j in range(2, k):\n",
        "    if D[j+i][j-1] != -1:\n",
        "      D[j+i][j-2] = D[j+i][j-1] + D[j-1+i][j-2]\n",
        "    else:\n",
        "      D[j+i][j-2+i] = -1\n",
        "  i = i + 1\n",
        "    \n",
        "  \n",
        "\n",
        "D"
      ],
      "execution_count": 0,
      "outputs": []
    },
    {
      "metadata": {
        "id": "Xtd1Mb4VKoa1",
        "colab_type": "code",
        "colab": {
          "base_uri": "https://localhost:8080/",
          "height": 102
        },
        "outputId": "77b42406-bf4d-4a6c-a4dd-e7e1263363f9"
      },
      "cell_type": "code",
      "source": [
        "a = [2, 3, 10, 12, 8]\n",
        "n = len(a)\n",
        "D = [[0 for j in range(n)] for i in range(n)]\n",
        "\n",
        "# initialize matrix\n",
        "for i in range(1, n):\n",
        "  if a[i] > a[i-1]:\n",
        "    D[1][i] = a[i] - a[i - 1]\n",
        "  else:\n",
        "    D[1][i] = -1\n",
        "\n",
        "for j in range(2, n):\n",
        "  for k in range(1, n):\n",
        "    sum = 0\n",
        "    for i in range(1, j+1):\n",
        "      if D[1][i] != -1:\n",
        "        sum = sum + D[1][i]\n",
        "    D[j][k] = sum\n",
        "  \n",
        "D"
      ],
      "execution_count": 41,
      "outputs": [
        {
          "output_type": "execute_result",
          "data": {
            "text/plain": [
              "[[0, 0, 0, 0, 0],\n",
              " [0, 1, 7, 2, -1],\n",
              " [0, 8, 8, 8, 8],\n",
              " [0, 10, 10, 10, 10],\n",
              " [0, 10, 10, 10, 10]]"
            ]
          },
          "metadata": {
            "tags": []
          },
          "execution_count": 41
        }
      ]
    },
    {
      "metadata": {
        "id": "CILR9tymVIE4",
        "colab_type": "code",
        "colab": {}
      },
      "cell_type": "code",
      "source": [
        "a = [2, 3, 10, 12, 8]\n",
        "index = []\n",
        "n = len(a)\n",
        "\n",
        "sort[a]"
      ],
      "execution_count": 0,
      "outputs": []
    }
  ]
}