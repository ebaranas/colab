{
  "nbformat": 4,
  "nbformat_minor": 0,
  "metadata": {
    "colab": {
      "name": "hackerrank - algorithms.ipynb",
      "version": "0.3.2",
      "provenance": [],
      "include_colab_link": true
    },
    "kernelspec": {
      "name": "python3",
      "display_name": "Python 3"
    }
  },
  "cells": [
    {
      "cell_type": "markdown",
      "metadata": {
        "id": "view-in-github",
        "colab_type": "text"
      },
      "source": [
        "<a href=\"https://colab.research.google.com/github/ebaranas/colab/blob/master/hackerrank_algorithms.ipynb\" target=\"_parent\"><img src=\"https://colab.research.google.com/assets/colab-badge.svg\" alt=\"Open In Colab\"/></a>"
      ]
    },
    {
      "metadata": {
        "id": "be4wYEsZq0yG",
        "colab_type": "code",
        "colab": {
          "base_uri": "https://localhost:8080/",
          "height": 34
        },
        "outputId": "97da7117-fe33-4272-9cda-2f667c39342d"
      },
      "cell_type": "code",
      "source": [
        "def timeConversion(s):\n",
        "    length = len(s)\n",
        "    if s[0:2] == '12' and s[-2:length] == 'AM':\n",
        "        time = '00:00:00'\n",
        "    elif s[0:2] == '12' and s[-2:length] == 'PM':\n",
        "        time = '12:00:00'\n",
        "    else:\n",
        "        if s[-2:length] == 'AM':\n",
        "            time = s[0:length-2]\n",
        "        elif s[-2:length] == 'PM':\n",
        "#             time = int(s[0:2])\n",
        "            time = str(int(s[0:2]) + 12) + s[2:length-2]\n",
        "    return time\n",
        "\n",
        "timeConversion('02:00:00PM')"
      ],
      "execution_count": 2,
      "outputs": [
        {
          "output_type": "execute_result",
          "data": {
            "text/plain": [
              "'14:00:00'"
            ]
          },
          "metadata": {
            "tags": []
          },
          "execution_count": 2
        }
      ]
    },
    {
      "metadata": {
        "id": "e9SkEFt3q82y",
        "colab_type": "code",
        "colab": {}
      },
      "cell_type": "code",
      "source": [
        "# LCM\n",
        "def lcm(a, b):\n",
        "  if a > b and a%b == 0:\n",
        "    lcm = a\n",
        "  elif a < b and b%a == 0:\n",
        "    lcm = b\n",
        "  else:\n",
        "    lcm = a*b\n",
        "  return lcm"
      ],
      "execution_count": 0,
      "outputs": []
    },
    {
      "metadata": {
        "id": "xcsz3V7C31HO",
        "colab_type": "code",
        "colab": {
          "base_uri": "https://localhost:8080/",
          "height": 34
        },
        "outputId": "993c041d-c87e-4f79-d046-247ca4b48867"
      },
      "cell_type": "code",
      "source": [
        "lcm(2, 31)"
      ],
      "execution_count": 7,
      "outputs": [
        {
          "output_type": "execute_result",
          "data": {
            "text/plain": [
              "62"
            ]
          },
          "metadata": {
            "tags": []
          },
          "execution_count": 7
        }
      ]
    },
    {
      "metadata": {
        "id": "x0d99wJp347Y",
        "colab_type": "code",
        "colab": {}
      },
      "cell_type": "code",
      "source": [
        "def LCM(arr):\n",
        "  n = len(arr)\n",
        "  ans = lcm(arr[0], arr[1])\n",
        "  for i in range(2, n):\n",
        "    ans = lcm(ans, arr[i])\n",
        "  return ans"
      ],
      "execution_count": 0,
      "outputs": []
    },
    {
      "metadata": {
        "id": "D6VF4x0A6Va3",
        "colab_type": "code",
        "colab": {
          "base_uri": "https://localhost:8080/",
          "height": 34
        },
        "outputId": "fcd02ce9-43c9-48a2-cd70-a15429108ea2"
      },
      "cell_type": "code",
      "source": [
        ""
      ],
      "execution_count": 11,
      "outputs": [
        {
          "output_type": "execute_result",
          "data": {
            "text/plain": [
              "24"
            ]
          },
          "metadata": {
            "tags": []
          },
          "execution_count": 11
        }
      ]
    },
    {
      "metadata": {
        "id": "2U4gXPGR6YbN",
        "colab_type": "code",
        "colab": {}
      },
      "cell_type": "code",
      "source": [
        ""
      ],
      "execution_count": 0,
      "outputs": []
    }
  ]
}