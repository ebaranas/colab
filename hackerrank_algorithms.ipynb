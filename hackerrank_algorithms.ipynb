{
  "nbformat": 4,
  "nbformat_minor": 0,
  "metadata": {
    "colab": {
      "name": "hackerrank - algorithms.ipynb",
      "version": "0.3.2",
      "provenance": [],
      "include_colab_link": true
    },
    "kernelspec": {
      "name": "python3",
      "display_name": "Python 3"
    }
  },
  "cells": [
    {
      "cell_type": "markdown",
      "metadata": {
        "id": "view-in-github",
        "colab_type": "text"
      },
      "source": [
        "<a href=\"https://colab.research.google.com/github/ebaranas/colab/blob/master/hackerrank_algorithms.ipynb\" target=\"_parent\"><img src=\"https://colab.research.google.com/assets/colab-badge.svg\" alt=\"Open In Colab\"/></a>"
      ]
    },
    {
      "metadata": {
        "id": "be4wYEsZq0yG",
        "colab_type": "code",
        "colab": {
          "base_uri": "https://localhost:8080/",
          "height": 34
        },
        "outputId": "97da7117-fe33-4272-9cda-2f667c39342d"
      },
      "cell_type": "code",
      "source": [
        "def timeConversion(s):\n",
        "    length = len(s)\n",
        "    if s[0:2] == '12' and s[-2:length] == 'AM':\n",
        "        time = '00:00:00'\n",
        "    elif s[0:2] == '12' and s[-2:length] == 'PM':\n",
        "        time = '12:00:00'\n",
        "    else:\n",
        "        if s[-2:length] == 'AM':\n",
        "            time = s[0:length-2]\n",
        "        elif s[-2:length] == 'PM':\n",
        "#             time = int(s[0:2])\n",
        "            time = str(int(s[0:2]) + 12) + s[2:length-2]\n",
        "    return time\n",
        "\n",
        "timeConversion('02:00:00PM')"
      ],
      "execution_count": 2,
      "outputs": [
        {
          "output_type": "execute_result",
          "data": {
            "text/plain": [
              "'14:00:00'"
            ]
          },
          "metadata": {
            "tags": []
          },
          "execution_count": 2
        }
      ]
    },
    {
      "metadata": {
        "id": "e9SkEFt3q82y",
        "colab_type": "code",
        "colab": {}
      },
      "cell_type": "code",
      "source": [
        "# LCM\n",
        "def lcm(a, b):\n",
        "  if a > b and a%b == 0:\n",
        "    lcm = a\n",
        "  elif a < b and b%a == 0:\n",
        "    lcm = b\n",
        "  elif a == b:\n",
        "    lcm = a\n",
        "  else:\n",
        "    lcm = a*b\n",
        "  return lcm"
      ],
      "execution_count": 0,
      "outputs": []
    },
    {
      "metadata": {
        "id": "xcsz3V7C31HO",
        "colab_type": "code",
        "colab": {
          "base_uri": "https://localhost:8080/",
          "height": 34
        },
        "outputId": "0f56f8e7-77fd-4c82-8c0f-5f36b160ac2f"
      },
      "cell_type": "code",
      "source": [
        "lcm(2, 2)"
      ],
      "execution_count": 17,
      "outputs": [
        {
          "output_type": "execute_result",
          "data": {
            "text/plain": [
              "2"
            ]
          },
          "metadata": {
            "tags": []
          },
          "execution_count": 17
        }
      ]
    },
    {
      "metadata": {
        "id": "x0d99wJp347Y",
        "colab_type": "code",
        "colab": {}
      },
      "cell_type": "code",
      "source": [
        "def LCM(arr):\n",
        "  n = len(arr)\n",
        "  ans = lcm(arr[0], arr[1])\n",
        "  for i in range(2, n):\n",
        "    ans = lcm(ans, arr[i])\n",
        "  return ans"
      ],
      "execution_count": 0,
      "outputs": []
    },
    {
      "metadata": {
        "id": "D6VF4x0A6Va3",
        "colab_type": "code",
        "colab": {}
      },
      "cell_type": "code",
      "source": [
        "def gcf(a, b):\n",
        "  if a > b:\n",
        "    while b not in [0, 1]:\n",
        "      remainder = a%b\n",
        "      gcf = a/b\n",
        "      a = b\n",
        "      b = remainder\n",
        "      \n",
        "    if b == 1:\n",
        "      gcf = 1\n",
        "\n",
        "  elif a < b:\n",
        "    while a not in [0, 1]:\n",
        "      remainder = b%a\n",
        "      gcf = b/a\n",
        "      b = a\n",
        "      a = remainder\n",
        "      \n",
        "    if a == 1:\n",
        "      gcf = 1\n",
        "\n",
        "  elif a == b:\n",
        "    gcf = a\n",
        "    \n",
        "  return gcf"
      ],
      "execution_count": 0,
      "outputs": []
    },
    {
      "metadata": {
        "id": "2U4gXPGR6YbN",
        "colab_type": "code",
        "colab": {
          "base_uri": "https://localhost:8080/",
          "height": 34
        },
        "outputId": "9ac17d4d-658f-42be-b41b-28f01e4f4e34"
      },
      "cell_type": "code",
      "source": [
        "gcf(9, 20)"
      ],
      "execution_count": 91,
      "outputs": [
        {
          "output_type": "execute_result",
          "data": {
            "text/plain": [
              "1"
            ]
          },
          "metadata": {
            "tags": []
          },
          "execution_count": 91
        }
      ]
    },
    {
      "metadata": {
        "id": "4c9sSf_g7EcX",
        "colab_type": "code",
        "colab": {}
      },
      "cell_type": "code",
      "source": [
        "def GCF(arr):\n",
        "  n = len(arr)\n",
        "  ans = gcf(arr[0], arr[1])\n",
        "  for i in range(2, n):\n",
        "    ans = gcf(ans, arr[i])\n",
        "  return ans"
      ],
      "execution_count": 0,
      "outputs": []
    },
    {
      "metadata": {
        "id": "lccSCfGV71kC",
        "colab_type": "code",
        "colab": {
          "base_uri": "https://localhost:8080/",
          "height": 34
        },
        "outputId": "eccdc210-b95c-4692-fd20-8924f6604fd6"
      },
      "cell_type": "code",
      "source": [
        "GCF([16, 8, 3])"
      ],
      "execution_count": 32,
      "outputs": [
        {
          "output_type": "execute_result",
          "data": {
            "text/plain": [
              "1"
            ]
          },
          "metadata": {
            "tags": []
          },
          "execution_count": 32
        }
      ]
    },
    {
      "metadata": {
        "id": "cCacwigr73E1",
        "colab_type": "code",
        "colab": {
          "base_uri": "https://localhost:8080/",
          "height": 34
        },
        "outputId": "b1372fdd-b036-482d-b67b-652820165fb7"
      },
      "cell_type": "code",
      "source": [
        "2%5"
      ],
      "execution_count": 33,
      "outputs": [
        {
          "output_type": "execute_result",
          "data": {
            "text/plain": [
              "2"
            ]
          },
          "metadata": {
            "tags": []
          },
          "execution_count": 33
        }
      ]
    },
    {
      "metadata": {
        "id": "TG9OtIsD9OLy",
        "colab_type": "code",
        "colab": {
          "base_uri": "https://localhost:8080/",
          "height": 68
        },
        "outputId": "49a15cd3-6093-4018-c439-a52bf4620737"
      },
      "cell_type": "code",
      "source": [
        "foo = 0\n",
        "i = 0\n",
        "while foo < 3:\n",
        "  i = i + 1\n",
        "  foo = i\n",
        "  print(i)"
      ],
      "execution_count": 57,
      "outputs": [
        {
          "output_type": "stream",
          "text": [
            "1\n",
            "2\n",
            "3\n"
          ],
          "name": "stdout"
        }
      ]
    },
    {
      "metadata": {
        "id": "S1sNBifJH-4P",
        "colab_type": "code",
        "colab": {
          "base_uri": "https://localhost:8080/",
          "height": 68
        },
        "outputId": "e576a8cd-8437-4adf-9f2b-616c2e3e5738"
      },
      "cell_type": "code",
      "source": [
        "foo = 0\n",
        "while foo < 3:\n",
        "  foo = foo + 1\n",
        "  print(foo)"
      ],
      "execution_count": 58,
      "outputs": [
        {
          "output_type": "stream",
          "text": [
            "1\n",
            "2\n",
            "3\n"
          ],
          "name": "stdout"
        }
      ]
    },
    {
      "metadata": {
        "id": "MbOiAAG_Lg5s",
        "colab_type": "code",
        "colab": {
          "base_uri": "https://localhost:8080/",
          "height": 68
        },
        "outputId": "a2560ac0-6047-46e8-ce1c-6f55c1e2b051"
      },
      "cell_type": "code",
      "source": [
        "foo = 0\n",
        "while foo < 3:\n",
        "  print(foo)\n",
        "  foo = foo + 1\n",
        "  "
      ],
      "execution_count": 59,
      "outputs": [
        {
          "output_type": "stream",
          "text": [
            "0\n",
            "1\n",
            "2\n"
          ],
          "name": "stdout"
        }
      ]
    },
    {
      "metadata": {
        "id": "ZSuwUjZrLnoP",
        "colab_type": "code",
        "colab": {
          "base_uri": "https://localhost:8080/",
          "height": 34
        },
        "outputId": "38b30c50-4fec-4a1d-84b7-c491d7b21c81"
      },
      "cell_type": "code",
      "source": [
        "0 not in [0,1]"
      ],
      "execution_count": 74,
      "outputs": [
        {
          "output_type": "execute_result",
          "data": {
            "text/plain": [
              "False"
            ]
          },
          "metadata": {
            "tags": []
          },
          "execution_count": 74
        }
      ]
    },
    {
      "metadata": {
        "id": "-72fsEiaNH4a",
        "colab_type": "code",
        "colab": {
          "base_uri": "https://localhost:8080/",
          "height": 34
        },
        "outputId": "9f1ad377-65cb-4808-bf00-cb1e1cc3273a"
      },
      "cell_type": "code",
      "source": [
        "s = [3, 4]\n",
        "s[0:0]"
      ],
      "execution_count": 93,
      "outputs": [
        {
          "output_type": "execute_result",
          "data": {
            "text/plain": [
              "[]"
            ]
          },
          "metadata": {
            "tags": []
          },
          "execution_count": 93
        }
      ]
    },
    {
      "metadata": {
        "id": "p2UtU54DcO7r",
        "colab_type": "code",
        "colab": {}
      },
      "cell_type": "code",
      "source": [
        "def birthday(s, d, m):\n",
        "    count = 0\n",
        "    i = 0\n",
        "    n = len(s)\n",
        "\n",
        "    while i + m < n:\n",
        "        print(s[i:i+m])\n",
        "        if sum(s[i:i+m]) == d:\n",
        "            count = count + 1\n",
        "        i = i + 1\n",
        "\n",
        "    return count"
      ],
      "execution_count": 0,
      "outputs": []
    },
    {
      "metadata": {
        "id": "swhNAeI-c4Ed",
        "colab_type": "code",
        "colab": {
          "base_uri": "https://localhost:8080/",
          "height": 51
        },
        "outputId": "15946374-73a5-4dc6-e58c-266ccccaa970"
      },
      "cell_type": "code",
      "source": [
        "birthday([4,1], 4, 1)"
      ],
      "execution_count": 99,
      "outputs": [
        {
          "output_type": "stream",
          "text": [
            "[4]\n"
          ],
          "name": "stdout"
        },
        {
          "output_type": "execute_result",
          "data": {
            "text/plain": [
              "1"
            ]
          },
          "metadata": {
            "tags": []
          },
          "execution_count": 99
        }
      ]
    },
    {
      "metadata": {
        "id": "O5UB1CS8c9QA",
        "colab_type": "code",
        "colab": {}
      },
      "cell_type": "code",
      "source": [
        ""
      ],
      "execution_count": 0,
      "outputs": []
    }
  ]
}