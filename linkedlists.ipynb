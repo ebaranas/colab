{
  "nbformat": 4,
  "nbformat_minor": 0,
  "metadata": {
    "colab": {
      "name": "linkedlists.ipynb",
      "version": "0.3.2",
      "provenance": [],
      "include_colab_link": true
    },
    "kernelspec": {
      "name": "python3",
      "display_name": "Python 3"
    }
  },
  "cells": [
    {
      "cell_type": "markdown",
      "metadata": {
        "id": "view-in-github",
        "colab_type": "text"
      },
      "source": [
        "<a href=\"https://colab.research.google.com/github/ebaranas/colab/blob/master/linkedlists.ipynb\" target=\"_parent\"><img src=\"https://colab.research.google.com/assets/colab-badge.svg\" alt=\"Open In Colab\"/></a>"
      ]
    },
    {
      "metadata": {
        "id": "AlAMvIIg4K9g",
        "colab_type": "code",
        "colab": {}
      },
      "cell_type": "code",
      "source": [
        "# Linked Lists"
      ],
      "execution_count": 0,
      "outputs": []
    },
    {
      "metadata": {
        "id": "k0AOBaDV4SL_",
        "colab_type": "code",
        "colab": {
          "base_uri": "https://localhost:8080/",
          "height": 85
        },
        "outputId": "66c694e0-29c8-4817-efee-f3e33e6202de"
      },
      "cell_type": "code",
      "source": [
        "class Node(object):\n",
        "  def __init__(self, value, next_node):\n",
        "    self.value = value\n",
        "    self.next_node = next_node\n",
        "  \n",
        "  def get_value(self):\n",
        "    return self.value\n",
        "  \n",
        "  def get_next(self):\n",
        "    return self.next_node\n",
        "\n",
        "class LinkedList(object):\n",
        "  def __init__(self, head):\n",
        "    self.head = head\n",
        "    self.length = self.initialise_length()\n",
        "  \n",
        "  def initialise_length(self):\n",
        "    length = 0\n",
        "    current_node = self.head\n",
        "    while current_node is not None:\n",
        "      current_node = current_node.get_next()\n",
        "      length = length + 1\n",
        "    return length\n",
        "  \n",
        "  def get_length(self):\n",
        "    return self.length\n",
        "  \n",
        "  def get_head(self):\n",
        "    return self.head\n",
        "  \n",
        "  def insert(self, node):\n",
        "    # inserts at the beginning of the linked list\n",
        "    self.head = node\n",
        "    return None\n",
        "  \n",
        "  def remove(self, node):\n",
        "    if node == self.head:\n",
        "      self.head = node.get_next()\n",
        "    else:\n",
        "      current_node = self.head\n",
        "      while current_node.get_next() is not node:\n",
        "        current_node = current_node.get_next()\n",
        "      current_node.next_node = node.get_next()\n",
        "    return None\n",
        "  \n",
        "  def get_list(self):\n",
        "    values = []\n",
        "    node = self.head\n",
        "    while node is not None:\n",
        "      values.append(node.get_value())\n",
        "      node = node.get_next()\n",
        "    return values\n",
        "    \n",
        "    \n",
        "node2 = Node(3, None)  \n",
        "node1 = Node(2, node2)\n",
        "head = Node(1, node1)\n",
        "my_link = LinkedList(head)\n",
        "\n",
        "# print(head.get_value())\n",
        "# print(node1.get_next())\n",
        "# print(my_link.head.get_value())\n",
        "\n",
        "print(my_link.get_list())\n",
        "\n",
        "new_head = Node(0, my_link.get_head())\n",
        "my_link.insert(new_head)\n",
        "print(my_link.get_list())\n",
        "print(my_link.get_head().get_value())\n",
        "\n",
        "my_link.remove(node2)\n",
        "print(my_link.get_list())\n",
        "\n"
      ],
      "execution_count": 183,
      "outputs": [
        {
          "output_type": "stream",
          "text": [
            "[1, 2, 3]\n",
            "[0, 1, 2, 3]\n",
            "0\n",
            "[0, 1, 2]\n"
          ],
          "name": "stdout"
        }
      ]
    },
    {
      "metadata": {
        "id": "_N8RewDf42Qe",
        "colab_type": "code",
        "colab": {}
      },
      "cell_type": "code",
      "source": [
        "# Stacks FIFO\n",
        "\n",
        "class Stack(object):\n",
        "  def __init__(self, top):\n",
        "    self.top = top\n",
        "  \n",
        "  def get_top(self):\n",
        "    return self.top.get_value()\n",
        "  \n",
        "  def add(self, value):\n",
        "    self.top = Node(value, self.top)\n",
        "    return None\n",
        "  \n",
        "  def process(self, counts):\n",
        "    current_node = self.top\n",
        "    for i in range(counts):\n",
        "      current_node = current_node.get_next()\n",
        "    self.top = current_node\n",
        "    return None\n",
        "  \n",
        "  def get_stack(self):\n",
        "    stack = []\n",
        "    current_node = self.top\n",
        "    while current_node is not None:\n",
        "      stack.append(current_node.get_value())\n",
        "      current_node = current_node.get_next()\n",
        "    return stack"
      ],
      "execution_count": 0,
      "outputs": []
    },
    {
      "metadata": {
        "id": "VByzYxgUV3Vx",
        "colab_type": "code",
        "colab": {
          "base_uri": "https://localhost:8080/",
          "height": 136
        },
        "outputId": "c3701d28-bde5-4fdc-f2c5-e108e8adcadf"
      },
      "cell_type": "code",
      "source": [
        "s1 = Node(1, None)\n",
        "s2 = Node(2, s1)\n",
        "my_stack = Stack(s2)\n",
        "print(my_stack.get_stack())\n",
        "print(my_stack.get_top())\n",
        "\n",
        "my_stack.add(3)\n",
        "print(my_stack.get_top())\n",
        "\n",
        "my_stack.add(5)\n",
        "print(my_stack.get_top())\n",
        "print(my_stack.get_stack())\n",
        "\n",
        "my_stack.process(1)\n",
        "print(my_stack.get_stack())\n",
        "my_stack.process(2)\n",
        "print(my_stack.get_stack())"
      ],
      "execution_count": 92,
      "outputs": [
        {
          "output_type": "stream",
          "text": [
            "[2, 1]\n",
            "2\n",
            "3\n",
            "5\n",
            "[5, 3, 2, 1]\n",
            "[3, 2, 1]\n",
            "[1]\n"
          ],
          "name": "stdout"
        }
      ]
    },
    {
      "metadata": {
        "id": "C0lRvwKYWhBX",
        "colab_type": "code",
        "colab": {}
      },
      "cell_type": "code",
      "source": [
        "# Queues FILO\n",
        "\n",
        "class Queue(object):\n",
        "  def __init__(self, top):\n",
        "    self.top = top\n",
        "    self.bottom = self.initialise_bottom()\n",
        "    self.length = self.initialise_length()\n",
        "  \n",
        "  def initialise_length(self):\n",
        "    length = 0\n",
        "    current_node = self.top\n",
        "    while current_node is not None:\n",
        "      current_node = current_node.get_next()\n",
        "      length = length + 1\n",
        "    return length\n",
        "  \n",
        "  def get_length(self):\n",
        "    return self.length\n",
        "\n",
        "  def initialise_bottom(self):\n",
        "    current_node = self.top\n",
        "    while current_node.get_next() is not None:\n",
        "      current_node = current_node.get_next()\n",
        "    return current_node\n",
        "    \n",
        "  def get_bottom(self):\n",
        "    return self.bottom.get_value()\n",
        "  \n",
        "  def top(self):\n",
        "    return self.top.get_value()\n",
        "  \n",
        "  def add(self, value):\n",
        "    new_bottom = Node(value, None)\n",
        "    if self.bottom is not None:\n",
        "      self.bottom.next_node = new_bottom\n",
        "    \n",
        "    self.bottom = new_bottom\n",
        "    \n",
        "    if self.length == 0:\n",
        "      self.top = self.bottom\n",
        "    self.length = self.length + 1\n",
        "    assert self.length > 0\n",
        "    return None\n",
        "  \n",
        "  def process(self, counts):\n",
        "    assert self.length >= counts\n",
        "    current_node = self.top\n",
        "    for i in range(counts):\n",
        "      current_node = current_node.get_next()\n",
        "    self.top = current_node\n",
        "    if self.length == 0:\n",
        "      self.bottom = None\n",
        "#     print('self.top ', self.top.get_value())\n",
        "#     print('self.bottom ', self.bottom.get_value())\n",
        "    self.length = self.length - counts\n",
        "    return None\n",
        "  \n",
        "  def get_queue(self):\n",
        "    queue = []\n",
        "    current_node = self.top\n",
        "    while current_node is not None:\n",
        "      queue.append(current_node.get_value())\n",
        "      current_node = current_node.get_next()\n",
        "    return queue"
      ],
      "execution_count": 0,
      "outputs": []
    },
    {
      "metadata": {
        "id": "ENdDW1IGhGwx",
        "colab_type": "code",
        "colab": {
          "base_uri": "https://localhost:8080/",
          "height": 170
        },
        "outputId": "112a3514-d934-44c5-f8b1-f890741e7480"
      },
      "cell_type": "code",
      "source": [
        "q3 = Node(3, None)\n",
        "q2 = Node(2, q3)\n",
        "q1 = Node(1, q2)\n",
        "\n",
        "my_queue = Queue(q1)\n",
        "print(\"length \", my_queue.get_length())\n",
        "print(my_queue.get_queue())\n",
        "print(my_queue.get_bottom())\n",
        "my_queue.add(4)\n",
        "print(\"length \", my_queue.get_length())\n",
        "print(\"bottom\", my_queue.get_bottom())\n",
        "print(my_queue.get_queue())\n",
        "my_queue.process(4)\n",
        "print(my_queue.get_queue())\n",
        "my_queue.add(23)\n",
        "print(my_queue.get_bottom())\n",
        "print(my_queue.get_queue())"
      ],
      "execution_count": 180,
      "outputs": [
        {
          "output_type": "stream",
          "text": [
            "length  3\n",
            "[1, 2, 3]\n",
            "3\n",
            "length  4\n",
            "bottom 4\n",
            "[1, 2, 3, 4]\n",
            "[]\n",
            "23\n",
            "[23]\n"
          ],
          "name": "stdout"
        }
      ]
    },
    {
      "metadata": {
        "id": "CbSNwzw3h_l1",
        "colab_type": "code",
        "colab": {
          "base_uri": "https://localhost:8080/",
          "height": 51
        },
        "outputId": "060aac30-db21-4dc7-c288-83d87475cf68"
      },
      "cell_type": "code",
      "source": [
        "# CHAPTER 2 EXERCISES\n",
        "# 2.1. Write code to remove duplicates from an unsorted linked list O(N)\n",
        "\n",
        "t4 = Node(1, None)\n",
        "t3 = Node(1, t4)\n",
        "t2 = Node(1, t3)\n",
        "t1 = Node(1, t2)\n",
        "head = Node(1, t1)\n",
        "test_list = LinkedList(head)\n",
        "print(test_list.get_list())\n",
        "length = test_list.get_length()\n",
        "\n",
        "def remove_duplicate_with_buffer(test_list):\n",
        "  assert test_list.get_length() > 2\n",
        "  buffer = []\n",
        "  current_node = test_list.get_head()\n",
        "  while current_node is not None:\n",
        "    if current_node.get_value() not in buffer:\n",
        "      buffer.append(current_node.get_value())\n",
        "    else:\n",
        "      test_list.remove(current_node)\n",
        "    current_node = current_node.get_next()\n",
        "    \n",
        "  return test_list.get_list()\n",
        "\n",
        "remove_duplicate_with_buffer(test_list)\n"
      ],
      "execution_count": 207,
      "outputs": [
        {
          "output_type": "stream",
          "text": [
            "[1, 1, 1, 1, 1]\n"
          ],
          "name": "stdout"
        },
        {
          "output_type": "execute_result",
          "data": {
            "text/plain": [
              "[1]"
            ]
          },
          "metadata": {
            "tags": []
          },
          "execution_count": 207
        }
      ]
    },
    {
      "metadata": {
        "id": "8GShpp3HLdad",
        "colab_type": "code",
        "colab": {
          "base_uri": "https://localhost:8080/",
          "height": 51
        },
        "outputId": "31c71097-44df-49af-f125-53f86965dcdf"
      },
      "cell_type": "code",
      "source": [
        "# if a temporary buffer is not allowed, I will have to check for each\n",
        "# element if it has a duplicate, and do for all elements O(N^N) ?\n",
        "\n",
        "t4 = Node(1, None)\n",
        "t3 = Node(1, t4)\n",
        "t2 = Node(1, t3)\n",
        "t1 = Node(1, t2)\n",
        "head = Node(1, t1)\n",
        "test_list = LinkedList(head)\n",
        "print(test_list.get_list())\n",
        "length = test_list.get_length()\n",
        "\n",
        "def remove_duplicate_without_buffer():\n",
        "  assert test_list.get_length() > 2\n",
        "  current_node = test_list.get_head()\n",
        "  while current_node is not None:\n",
        "    test_node = test_list.get_head()\n",
        "    count = 0\n",
        "\n",
        "    while test_node is not None:\n",
        "      if current_node.get_value() == test_node.get_value():\n",
        "        count = count + 1\n",
        "        if count > 1: # because count is at least one when comparing with self\n",
        "          test_list.remove(test_node)\n",
        "      test_node = test_node.get_next()\n",
        "\n",
        "    current_node = current_node.get_next()\n",
        "\n",
        "remove_duplicate_without_buffer()\n",
        "print(test_list.get_list())"
      ],
      "execution_count": 209,
      "outputs": [
        {
          "output_type": "stream",
          "text": [
            "[1, 1, 1, 1, 1]\n",
            "[1]\n"
          ],
          "name": "stdout"
        }
      ]
    },
    {
      "metadata": {
        "id": "Wf3uNG-dOOQC",
        "colab_type": "code",
        "colab": {}
      },
      "cell_type": "code",
      "source": [
        "# 2.2. Find nth to last element in a singly linked list\n",
        "t4 = Node(5, None)\n",
        "t3 = Node(4, t4)\n",
        "t2 = Node(3, t3)\n",
        "t1 = Node(2, t2)\n",
        "head = Node(1, t1)\n",
        "test_list = LinkedList(head)\n",
        "\n",
        "def find_elements(n, test_list):\n",
        "  nth_node = test_list.get_head()\n",
        "  for i in range(n):\n",
        "    nth_node = nth_node.get_next()\n",
        "  return nth_node.value()\n",
        "  \n"
      ],
      "execution_count": 0,
      "outputs": []
    },
    {
      "metadata": {
        "id": "fMARX8_PWERQ",
        "colab_type": "code",
        "colab": {
          "base_uri": "https://localhost:8080/",
          "height": 266
        },
        "outputId": "ec836427-b3bc-4563-e0c2-e76dfe52691c"
      },
      "cell_type": "code",
      "source": [
        "find_elements(2, test_list)"
      ],
      "execution_count": 213,
      "outputs": [
        {
          "output_type": "error",
          "ename": "TypeError",
          "evalue": "ignored",
          "traceback": [
            "\u001b[0;31m---------------------------------------------------------------------------\u001b[0m",
            "\u001b[0;31mTypeError\u001b[0m                                 Traceback (most recent call last)",
            "\u001b[0;32m<ipython-input-213-f58d3022e61c>\u001b[0m in \u001b[0;36m<module>\u001b[0;34m()\u001b[0m\n\u001b[0;32m----> 1\u001b[0;31m \u001b[0mfind_elements\u001b[0m\u001b[0;34m(\u001b[0m\u001b[0;36m2\u001b[0m\u001b[0;34m,\u001b[0m \u001b[0mtest_list\u001b[0m\u001b[0;34m)\u001b[0m\u001b[0;34m\u001b[0m\u001b[0m\n\u001b[0m",
            "\u001b[0;32m<ipython-input-211-296d2a58d0bc>\u001b[0m in \u001b[0;36mfind_elements\u001b[0;34m(n, test_list)\u001b[0m\n\u001b[1;32m     10\u001b[0m   \u001b[0;32mfor\u001b[0m \u001b[0mi\u001b[0m \u001b[0;32min\u001b[0m \u001b[0mrange\u001b[0m\u001b[0;34m(\u001b[0m\u001b[0mn\u001b[0m\u001b[0;34m)\u001b[0m\u001b[0;34m:\u001b[0m\u001b[0;34m\u001b[0m\u001b[0m\n\u001b[1;32m     11\u001b[0m     \u001b[0mnth_node\u001b[0m \u001b[0;34m=\u001b[0m \u001b[0mnth_node\u001b[0m\u001b[0;34m.\u001b[0m\u001b[0mget_next\u001b[0m\u001b[0;34m(\u001b[0m\u001b[0;34m)\u001b[0m\u001b[0;34m\u001b[0m\u001b[0m\n\u001b[0;32m---> 12\u001b[0;31m   \u001b[0;32mreturn\u001b[0m \u001b[0mnth_node\u001b[0m\u001b[0;34m.\u001b[0m\u001b[0mvalue\u001b[0m\u001b[0;34m(\u001b[0m\u001b[0;34m)\u001b[0m\u001b[0;34m\u001b[0m\u001b[0m\n\u001b[0m\u001b[1;32m     13\u001b[0m \u001b[0;34m\u001b[0m\u001b[0m\n",
            "\u001b[0;31mTypeError\u001b[0m: 'int' object is not callable"
          ]
        }
      ]
    },
    {
      "metadata": {
        "id": "FDOZt0yPWHso",
        "colab_type": "code",
        "colab": {}
      },
      "cell_type": "code",
      "source": [
        ""
      ],
      "execution_count": 0,
      "outputs": []
    }
  ]
}