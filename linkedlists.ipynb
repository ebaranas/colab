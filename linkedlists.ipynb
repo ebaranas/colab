{
  "nbformat": 4,
  "nbformat_minor": 0,
  "metadata": {
    "colab": {
      "name": "linkedlists.ipynb",
      "version": "0.3.2",
      "provenance": [],
      "include_colab_link": true
    },
    "kernelspec": {
      "name": "python3",
      "display_name": "Python 3"
    }
  },
  "cells": [
    {
      "cell_type": "markdown",
      "metadata": {
        "id": "view-in-github",
        "colab_type": "text"
      },
      "source": [
        "<a href=\"https://colab.research.google.com/github/ebaranas/colab/blob/master/linkedlists.ipynb\" target=\"_parent\"><img src=\"https://colab.research.google.com/assets/colab-badge.svg\" alt=\"Open In Colab\"/></a>"
      ]
    },
    {
      "metadata": {
        "id": "AlAMvIIg4K9g",
        "colab_type": "code",
        "colab": {}
      },
      "cell_type": "code",
      "source": [
        "# Linked Lists"
      ],
      "execution_count": 0,
      "outputs": []
    },
    {
      "metadata": {
        "id": "k0AOBaDV4SL_",
        "colab_type": "code",
        "colab": {
          "base_uri": "https://localhost:8080/",
          "height": 85
        },
        "outputId": "0057b6da-1c84-4d64-8b00-23ffff85ed05"
      },
      "cell_type": "code",
      "source": [
        "class Node(object):\n",
        "  def __init__(self, value, next_node):\n",
        "    self.value = value\n",
        "    self.next_node = next_node\n",
        "  \n",
        "  def get_value(self):\n",
        "    return self.value\n",
        "  \n",
        "  def get_next(self):\n",
        "    return self.next_node\n",
        "\n",
        "class LinkedList(object):\n",
        "  def __init__(self, head):\n",
        "    self.head = head\n",
        "  \n",
        "  def get_head(self):\n",
        "    return self.head\n",
        "  \n",
        "  def insert(self, node):\n",
        "    # inserts at the beginning of the linked list\n",
        "    self.head = node\n",
        "    return None\n",
        "  \n",
        "  def remove(self, node):\n",
        "    if node == self.head:\n",
        "      self.head = node.get_next()\n",
        "    else:\n",
        "      current_node = self.head\n",
        "      while current_node.get_next() is not node:\n",
        "        current_node = current_node.get_next()\n",
        "      current_node.next_node = node.get_next()\n",
        "    return None\n",
        "  \n",
        "  def get_list(self):\n",
        "    values = []\n",
        "    node = self.head\n",
        "    while node is not None:\n",
        "      values.append(node.get_value())\n",
        "      node = node.get_next()\n",
        "    return values\n",
        "    \n",
        "    \n",
        "node2 = Node(3, None)  \n",
        "node1 = Node(2, node2)\n",
        "head = Node(1, node1)\n",
        "my_link = LinkedList(head)\n",
        "\n",
        "# print(head.get_value())\n",
        "# print(node1.get_next())\n",
        "# print(my_link.head.get_value())\n",
        "\n",
        "print(my_link.get_list())\n",
        "\n",
        "new_head = Node(0, my_link.get_head())\n",
        "my_link.insert(new_head)\n",
        "print(my_link.get_list())\n",
        "print(my_link.get_head().get_value())\n",
        "\n",
        "my_link.remove(node2)\n",
        "print(my_link.get_list())\n",
        "\n"
      ],
      "execution_count": 35,
      "outputs": [
        {
          "output_type": "stream",
          "text": [
            "[1, 2, 3]\n",
            "[0, 1, 2, 3]\n",
            "0\n",
            "[0, 1, 2]\n"
          ],
          "name": "stdout"
        }
      ]
    },
    {
      "metadata": {
        "id": "_N8RewDf42Qe",
        "colab_type": "code",
        "colab": {}
      },
      "cell_type": "code",
      "source": [
        ""
      ],
      "execution_count": 0,
      "outputs": []
    }
  ]
}