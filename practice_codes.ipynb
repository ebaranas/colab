{
  "nbformat": 4,
  "nbformat_minor": 0,
  "metadata": {
    "colab": {
      "name": "practice-codes.ipynb",
      "version": "0.3.2",
      "provenance": [],
      "include_colab_link": true
    },
    "kernelspec": {
      "name": "python3",
      "display_name": "Python 3"
    }
  },
  "cells": [
    {
      "cell_type": "markdown",
      "metadata": {
        "id": "view-in-github",
        "colab_type": "text"
      },
      "source": [
        "<a href=\"https://colab.research.google.com/github/ebaranas/colab/blob/master/practice_codes.ipynb\" target=\"_parent\"><img src=\"https://colab.research.google.com/assets/colab-badge.svg\" alt=\"Open In Colab\"/></a>"
      ]
    },
    {
      "metadata": {
        "id": "c0-W6n7LAXB6",
        "colab_type": "code",
        "colab": {}
      },
      "cell_type": "code",
      "source": [
        "# Determine if a string has all unique characters\n",
        "def is_unique(string):\n",
        "  for char in string:\n",
        "    if string.count(char) > 1:\n",
        "      return \"no\"\n",
        "  return \"yes\""
      ],
      "execution_count": 0,
      "outputs": []
    },
    {
      "metadata": {
        "id": "L90oMMc8iCid",
        "colab_type": "code",
        "colab": {
          "base_uri": "https://localhost:8080/",
          "height": 34
        },
        "outputId": "ec0da414-fe8c-495a-bc2b-debc6f51bfa6"
      },
      "cell_type": "code",
      "source": [
        "is_unique('s4fad')"
      ],
      "execution_count": 15,
      "outputs": [
        {
          "output_type": "execute_result",
          "data": {
            "text/plain": [
              "'yes'"
            ]
          },
          "metadata": {
            "tags": []
          },
          "execution_count": 15
        }
      ]
    },
    {
      "metadata": {
        "id": "x9xr5viUiK9l",
        "colab_type": "code",
        "colab": {}
      },
      "cell_type": "code",
      "source": [
        "# Reverse a string\n",
        "def reverse(string):\n",
        "  return string[::-1] # python supports string slicing"
      ],
      "execution_count": 0,
      "outputs": []
    },
    {
      "metadata": {
        "id": "YgKtqnULl1c2",
        "colab_type": "code",
        "colab": {
          "base_uri": "https://localhost:8080/",
          "height": 34
        },
        "outputId": "a01bbbb3-3c0c-4ab8-a82c-185ff544c707"
      },
      "cell_type": "code",
      "source": [
        "reverse('hello')"
      ],
      "execution_count": 24,
      "outputs": [
        {
          "output_type": "execute_result",
          "data": {
            "text/plain": [
              "'olleh'"
            ]
          },
          "metadata": {
            "tags": []
          },
          "execution_count": 24
        }
      ]
    },
    {
      "metadata": {
        "id": "8Iixu5Mfl7fk",
        "colab_type": "code",
        "colab": {}
      },
      "cell_type": "code",
      "source": [
        "# Remove duplicate characters in string without buffer\n",
        "def remove_duplicate(string):\n",
        "  string = list(string)\n",
        "  for char in string:\n",
        "    if string.count(char) > 1:\n",
        "      string.remove(char)\n",
        "  return ''.join(string)\n",
        "\n",
        "def test_remove_duplicate():\n",
        "  assert remove_duplicate(\"  \") == \" \"\n",
        "  assert remove_duplicate(\"ss\") == \"s\"\n",
        "     "
      ],
      "execution_count": 0,
      "outputs": []
    },
    {
      "metadata": {
        "id": "ZDPR1diEnnjG",
        "colab_type": "code",
        "colab": {}
      },
      "cell_type": "code",
      "source": [
        "remove_duplicate('ssstring')\n",
        "test_remove_duplicate()"
      ],
      "execution_count": 0,
      "outputs": []
    },
    {
      "metadata": {
        "id": "Rv4LlRcvnpPa",
        "colab_type": "code",
        "colab": {}
      },
      "cell_type": "code",
      "source": [
        "# Test two strings if they are anagrams\n",
        "def is_anagram(string1, string2):\n",
        "  if len(string1) != len(string2):\n",
        "    return False\n",
        "  else:\n",
        "    for char in string1:\n",
        "      if string1.count(char) != string2.count(char):\n",
        "        return False\n",
        "    return True"
      ],
      "execution_count": 0,
      "outputs": []
    },
    {
      "metadata": {
        "id": "XxiJr-5atMCL",
        "colab_type": "code",
        "colab": {
          "base_uri": "https://localhost:8080/",
          "height": 34
        },
        "outputId": "0888dfda-35bb-4f62-8bcc-f5f557336c5d"
      },
      "cell_type": "code",
      "source": [
        "is_anagram('.  ','  .')"
      ],
      "execution_count": 80,
      "outputs": [
        {
          "output_type": "execute_result",
          "data": {
            "text/plain": [
              "True"
            ]
          },
          "metadata": {
            "tags": []
          },
          "execution_count": 80
        }
      ]
    },
    {
      "metadata": {
        "id": "Nzfxw2wLvv3S",
        "colab_type": "code",
        "colab": {}
      },
      "cell_type": "code",
      "source": [
        "# Replace spaces in a string with '%20'\n",
        "def replace_space(string):\n",
        "  return ''.join(['%20' if element == ' ' else element for element in string])"
      ],
      "execution_count": 0,
      "outputs": []
    },
    {
      "metadata": {
        "id": "OMz8Bdd6zQXf",
        "colab_type": "code",
        "colab": {
          "base_uri": "https://localhost:8080/",
          "height": 34
        },
        "outputId": "3e69f045-36d9-408a-83e6-d06346dc3930"
      },
      "cell_type": "code",
      "source": [
        "replace_space(\"hel  lo \")"
      ],
      "execution_count": 86,
      "outputs": [
        {
          "output_type": "execute_result",
          "data": {
            "text/plain": [
              "'hel%20%20lo%20'"
            ]
          },
          "metadata": {
            "tags": []
          },
          "execution_count": 86
        }
      ]
    },
    {
      "metadata": {
        "id": "I7u4Scq-zTF8",
        "colab_type": "code",
        "colab": {}
      },
      "cell_type": "code",
      "source": [
        "# Rotate an image by 90deg\n",
        "import numpy as np\n",
        "def rotate(image):\n",
        "  return np.flipud(np.transpose(image))"
      ],
      "execution_count": 0,
      "outputs": []
    },
    {
      "metadata": {
        "id": "ShJRFgpM0f-m",
        "colab_type": "code",
        "colab": {
          "base_uri": "https://localhost:8080/",
          "height": 85
        },
        "outputId": "8fac24e6-a949-4fd9-8baf-469c7473f750"
      },
      "cell_type": "code",
      "source": [
        "test_array = np.arange(4).reshape((2,2))\n",
        "print(test_array)\n",
        "rotate(test_array)"
      ],
      "execution_count": 96,
      "outputs": [
        {
          "output_type": "stream",
          "text": [
            "[[0 1]\n",
            " [2 3]]\n"
          ],
          "name": "stdout"
        },
        {
          "output_type": "execute_result",
          "data": {
            "text/plain": [
              "array([[1, 3],\n",
              "       [0, 2]])"
            ]
          },
          "metadata": {
            "tags": []
          },
          "execution_count": 96
        }
      ]
    },
    {
      "metadata": {
        "id": "2LEOzBg70jR0",
        "colab_type": "code",
        "colab": {}
      },
      "cell_type": "code",
      "source": [
        "# replace row and column elements to zero\n",
        "def rows_columns_0():\n",
        "  "
      ],
      "execution_count": 0,
      "outputs": []
    },
    {
      "metadata": {
        "id": "MOdgXszj2aX0",
        "colab_type": "code",
        "colab": {}
      },
      "cell_type": "code",
      "source": [
        "# Check if a string is a rotation of the other\n",
        "def is_substring(string1, string2):\n",
        "  if string1 in string2 or string2 in string1:\n",
        "    return True\n",
        "  else:\n",
        "    return False\n",
        "\n",
        "def is_rotation(string1, string2):\n",
        "  if len(string1) != len(string2):\n",
        "    return False\n",
        "  else:\n",
        "    foo_list = list(string1)\n",
        "    removed_chars = []\n",
        "    while not is_substring(''.join(foo_list), string2):\n",
        "      removed_chars.append(foo_list.pop())\n",
        "    return ''.join(removed_chars[::-1] + foo_list) == string2\n",
        "    "
      ],
      "execution_count": 0,
      "outputs": []
    },
    {
      "metadata": {
        "id": "80WKwkGM26_T",
        "colab_type": "code",
        "colab": {
          "base_uri": "https://localhost:8080/",
          "height": 34
        },
        "outputId": "1a9426b5-b24f-4f95-8fc9-51278a5b565f"
      },
      "cell_type": "code",
      "source": [
        "is_rotation('waterbottle', 'erbottlewat')"
      ],
      "execution_count": 155,
      "outputs": [
        {
          "output_type": "execute_result",
          "data": {
            "text/plain": [
              "True"
            ]
          },
          "metadata": {
            "tags": []
          },
          "execution_count": 155
        }
      ]
    },
    {
      "metadata": {
        "id": "OWuH_YEa5isU",
        "colab_type": "code",
        "colab": {
          "base_uri": "https://localhost:8080/",
          "height": 51
        },
        "outputId": "b1a1d2e6-3301-412c-8ab5-351d11f5fea9"
      },
      "cell_type": "code",
      "source": [
        "foo_list = list('string')\n",
        "print(foo_list)\n",
        "foo_list.pop()\n",
        "print(foo_list)"
      ],
      "execution_count": 128,
      "outputs": [
        {
          "output_type": "stream",
          "text": [
            "['s', 't', 'r', 'i', 'n', 'g']\n",
            "['s', 't', 'r', 'i', 'n']\n"
          ],
          "name": "stdout"
        }
      ]
    },
    {
      "metadata": {
        "id": "J0oNPRR74C67",
        "colab_type": "code",
        "colab": {}
      },
      "cell_type": "code",
      "source": [
        ""
      ],
      "execution_count": 0,
      "outputs": []
    }
  ]
}