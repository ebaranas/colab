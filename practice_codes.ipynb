{
  "nbformat": 4,
  "nbformat_minor": 0,
  "metadata": {
    "colab": {
      "name": "practice-codes.ipynb",
      "version": "0.3.2",
      "provenance": [],
      "include_colab_link": true
    },
    "kernelspec": {
      "name": "python3",
      "display_name": "Python 3"
    }
  },
  "cells": [
    {
      "cell_type": "markdown",
      "metadata": {
        "id": "view-in-github",
        "colab_type": "text"
      },
      "source": [
        "<a href=\"https://colab.research.google.com/github/ebaranas/colab/blob/master/practice_codes.ipynb\" target=\"_parent\"><img src=\"https://colab.research.google.com/assets/colab-badge.svg\" alt=\"Open In Colab\"/></a>"
      ]
    },
    {
      "metadata": {
        "id": "c0-W6n7LAXB6",
        "colab_type": "code",
        "colab": {}
      },
      "cell_type": "code",
      "source": [
        "# Determine if a string has all unique characters\n",
        "def is_unique(string):\n",
        "  for char in string:\n",
        "    if string.count(char) > 1:\n",
        "      return \"no\"\n",
        "  return \"yes\""
      ],
      "execution_count": 0,
      "outputs": []
    },
    {
      "metadata": {
        "id": "L90oMMc8iCid",
        "colab_type": "code",
        "colab": {
          "base_uri": "https://localhost:8080/",
          "height": 34
        },
        "outputId": "ec0da414-fe8c-495a-bc2b-debc6f51bfa6"
      },
      "cell_type": "code",
      "source": [
        "is_unique('s4fad')"
      ],
      "execution_count": 15,
      "outputs": [
        {
          "output_type": "execute_result",
          "data": {
            "text/plain": [
              "'yes'"
            ]
          },
          "metadata": {
            "tags": []
          },
          "execution_count": 15
        }
      ]
    },
    {
      "metadata": {
        "id": "x9xr5viUiK9l",
        "colab_type": "code",
        "colab": {}
      },
      "cell_type": "code",
      "source": [
        "# Reverse a string\n",
        "def reverse(string):\n",
        "  return string[::-1] # python supports string slicing"
      ],
      "execution_count": 0,
      "outputs": []
    },
    {
      "metadata": {
        "id": "YgKtqnULl1c2",
        "colab_type": "code",
        "colab": {
          "base_uri": "https://localhost:8080/",
          "height": 34
        },
        "outputId": "a01bbbb3-3c0c-4ab8-a82c-185ff544c707"
      },
      "cell_type": "code",
      "source": [
        "reverse('hello')"
      ],
      "execution_count": 24,
      "outputs": [
        {
          "output_type": "execute_result",
          "data": {
            "text/plain": [
              "'olleh'"
            ]
          },
          "metadata": {
            "tags": []
          },
          "execution_count": 24
        }
      ]
    },
    {
      "metadata": {
        "id": "8Iixu5Mfl7fk",
        "colab_type": "code",
        "colab": {}
      },
      "cell_type": "code",
      "source": [
        "# Remove duplicate characters in string without buffer\n",
        "def remove_duplicate(string):\n",
        "  string = list(string)\n",
        "  for char in string:\n",
        "    if string.count(char) > 1:\n",
        "      string.remove(char)\n",
        "  return ''.join(string)\n",
        "\n",
        "def test_remove_duplicate():\n",
        "  assert remove_duplicate(\"  \") == \" \"\n",
        "  assert remove_duplicate(\"ss\") == \"s\"\n",
        "     "
      ],
      "execution_count": 0,
      "outputs": []
    },
    {
      "metadata": {
        "id": "ZDPR1diEnnjG",
        "colab_type": "code",
        "colab": {}
      },
      "cell_type": "code",
      "source": [
        "remove_duplicate('ssstring')\n",
        "test_remove_duplicate()"
      ],
      "execution_count": 0,
      "outputs": []
    },
    {
      "metadata": {
        "id": "Rv4LlRcvnpPa",
        "colab_type": "code",
        "colab": {}
      },
      "cell_type": "code",
      "source": [
        "# Test two strings if they are anagrams\n",
        "def is_anagram(string1, string2):\n",
        "  if len(string1) != len(string2):\n",
        "    return False\n",
        "  else:\n",
        "    for char in string1:\n",
        "      if string1.count(char) != string2.count(char):\n",
        "        return False\n",
        "    return True"
      ],
      "execution_count": 0,
      "outputs": []
    },
    {
      "metadata": {
        "id": "XxiJr-5atMCL",
        "colab_type": "code",
        "colab": {
          "base_uri": "https://localhost:8080/",
          "height": 34
        },
        "outputId": "0888dfda-35bb-4f62-8bcc-f5f557336c5d"
      },
      "cell_type": "code",
      "source": [
        "is_anagram('.  ','  .')"
      ],
      "execution_count": 80,
      "outputs": [
        {
          "output_type": "execute_result",
          "data": {
            "text/plain": [
              "True"
            ]
          },
          "metadata": {
            "tags": []
          },
          "execution_count": 80
        }
      ]
    },
    {
      "metadata": {
        "id": "Nzfxw2wLvv3S",
        "colab_type": "code",
        "colab": {}
      },
      "cell_type": "code",
      "source": [
        "# Replace spaces in a string with '%20'\n",
        "def replace_space(string):\n",
        "  return ''.join(['%20' if element == ' ' else element for element in string])"
      ],
      "execution_count": 0,
      "outputs": []
    },
    {
      "metadata": {
        "id": "OMz8Bdd6zQXf",
        "colab_type": "code",
        "colab": {
          "base_uri": "https://localhost:8080/",
          "height": 34
        },
        "outputId": "3e69f045-36d9-408a-83e6-d06346dc3930"
      },
      "cell_type": "code",
      "source": [
        "replace_space(\"hel  lo \")"
      ],
      "execution_count": 86,
      "outputs": [
        {
          "output_type": "execute_result",
          "data": {
            "text/plain": [
              "'hel%20%20lo%20'"
            ]
          },
          "metadata": {
            "tags": []
          },
          "execution_count": 86
        }
      ]
    },
    {
      "metadata": {
        "id": "I7u4Scq-zTF8",
        "colab_type": "code",
        "colab": {}
      },
      "cell_type": "code",
      "source": [
        "# Rotate an image by 90deg\n",
        "def "
      ],
      "execution_count": 0,
      "outputs": []
    }
  ]
}